{
 "cells": [
  {
   "cell_type": "markdown",
   "metadata": {},
   "source": [
    "Let's try to describe the meaningful data of each match as a vector."
   ]
  },
  {
   "cell_type": "code",
   "execution_count": 1,
   "metadata": {},
   "outputs": [],
   "source": [
    "from fetcher import Fetcher\n",
    "import numpy as np\n",
    "\n",
    "fetch = Fetcher(\"data/database.sqlite\")"
   ]
  },
  {
   "cell_type": "code",
   "execution_count": 2,
   "metadata": {},
   "outputs": [
    {
     "data": {
      "text/plain": [
       "dict_keys(['id', 'player_fifa_api_id', 'player_api_id', 'date', 'overall_rating', 'potential', 'preferred_foot', 'attacking_work_rate', 'defensive_work_rate', 'crossing', 'finishing', 'heading_accuracy', 'short_passing', 'volleys', 'dribbling', 'curve', 'free_kick_accuracy', 'long_passing', 'ball_control', 'acceleration', 'sprint_speed', 'agility', 'reactions', 'balance', 'shot_power', 'jumping', 'stamina', 'strength', 'long_shots', 'aggression', 'interceptions', 'positioning', 'vision', 'penalties', 'marking', 'standing_tackle', 'sliding_tackle', 'gk_diving', 'gk_handling', 'gk_kicking', 'gk_positioning', 'gk_reflexes'])"
      ]
     },
     "execution_count": 2,
     "metadata": {},
     "output_type": "execute_result"
    }
   ],
   "source": [
    "player, attrs = fetch.get_player_data(505942)\n",
    "attrs[0].keys()"
   ]
  },
  {
   "cell_type": "code",
   "execution_count": 3,
   "metadata": {},
   "outputs": [],
   "source": [
    "import datetime\n",
    "\n",
    "# is date a before date b?\n",
    "def is_before (a, b):\n",
    "    a_dt = datetime.datetime.strptime(a, '%Y-%m-%d %H:%M:%S')\n",
    "    b_dt = datetime.datetime.strptime(b, '%Y-%m-%d %H:%M:%S')\n",
    "    return a_dt <= b_dt"
   ]
  },
  {
   "cell_type": "code",
   "execution_count": 38,
   "metadata": {},
   "outputs": [],
   "source": [
    "seen_players = {}\n",
    "\n",
    "# Summarize the player (at a given point in time)\n",
    "# to a single vector\n",
    "def player_vector (api_id, match_date):\n",
    "    player_cols = ['height', 'weight']\n",
    "    # Manually removed some that look suspicious or are non-numerical\n",
    "    attr_cols = ['overall_rating', 'potential',\n",
    "             'crossing', 'finishing', 'heading_accuracy', 'short_passing', 'volleys', \n",
    "             'dribbling', 'curve', 'free_kick_accuracy', 'long_passing', 'ball_control', \n",
    "             'acceleration', 'sprint_speed', 'agility', 'reactions', 'balance', 'shot_power', \n",
    "             'jumping', 'stamina', 'strength', 'long_shots', 'aggression', 'interceptions', 'positioning', \n",
    "             'vision', 'penalties', 'marking', 'standing_tackle', 'sliding_tackle']\n",
    "    \n",
    "    if not api_id in seen_players:\n",
    "        seen_players[api_id] = fetch.get_player_data(api_id)\n",
    "    player, attrs = seen_players[api_id]\n",
    "    \n",
    "    if len(attrs) == 0:\n",
    "        raise ValueError\n",
    "    \n",
    "    # let's find the most recent dict before match_date\n",
    "    cur_attrs = None\n",
    "    for d in attrs:\n",
    "        if is_before(d[\"date\"], match_date):\n",
    "            if cur_attrs == None or is_before(cur_attrs[\"date\"], d[\"date\"]):\n",
    "                cur_attrs = d\n",
    "                \n",
    "    # something is better than nothing\n",
    "    if cur_attrs == None:\n",
    "        cur_attrs = attrs[0]\n",
    "                \n",
    "    return [(player[col] if (col in player and player[col] != None) else 0) for col in player_cols] + \\\n",
    "           [(cur_attrs[col] if (col in cur_attrs and cur_attrs[col] != None) else 0) for col in attr_cols]"
   ]
  },
  {
   "cell_type": "code",
   "execution_count": 39,
   "metadata": {},
   "outputs": [
    {
     "data": {
      "text/plain": [
       "[175.26,\n",
       " 152,\n",
       " 56,\n",
       " 67,\n",
       " 55,\n",
       " 47,\n",
       " 35,\n",
       " 62,\n",
       " 53,\n",
       " 60,\n",
       " 53,\n",
       " 53,\n",
       " 57,\n",
       " 62,\n",
       " 72,\n",
       " 70,\n",
       " 75,\n",
       " 57,\n",
       " 52,\n",
       " 55,\n",
       " 57,\n",
       " 59,\n",
       " 47,\n",
       " 54,\n",
       " 37,\n",
       " 44,\n",
       " 47,\n",
       " 57,\n",
       " 56,\n",
       " 26,\n",
       " 30,\n",
       " 27]"
      ]
     },
     "execution_count": 39,
     "metadata": {},
     "output_type": "execute_result"
    }
   ],
   "source": [
    "player_vector(148336, \"2009-04-10 00:00:00\")"
   ]
  },
  {
   "cell_type": "code",
   "execution_count": 40,
   "metadata": {},
   "outputs": [
    {
     "name": "stdout",
     "output_type": "stream",
     "text": [
      "dict_keys(['id', 'team_api_id', 'team_fifa_api_id', 'team_long_name', 'team_short_name'])\n",
      "dict_keys(['id', 'team_fifa_api_id', 'team_api_id', 'date', 'buildUpPlaySpeed', 'buildUpPlaySpeedClass', 'buildUpPlayDribbling', 'buildUpPlayDribblingClass', 'buildUpPlayPassing', 'buildUpPlayPassingClass', 'buildUpPlayPositioningClass', 'chanceCreationPassing', 'chanceCreationPassingClass', 'chanceCreationCrossing', 'chanceCreationCrossingClass', 'chanceCreationShooting', 'chanceCreationShootingClass', 'chanceCreationPositioningClass', 'defencePressure', 'defencePressureClass', 'defenceAggression', 'defenceAggressionClass', 'defenceTeamWidth', 'defenceTeamWidthClass', 'defenceDefenderLineClass'])\n"
     ]
    }
   ],
   "source": [
    "team, attrs = fetch.get_team_data(9987)\n",
    "print(team.keys())\n",
    "print(attrs[0].keys())"
   ]
  },
  {
   "cell_type": "code",
   "execution_count": 41,
   "metadata": {},
   "outputs": [],
   "source": [
    "seen_teams = {}\n",
    "\n",
    "# Summarize the team (at a given point in time)\n",
    "# to a single vector\n",
    "def team_vector (api_id, match_date):\n",
    "    team_cols = []\n",
    "    # Again, removed some that are irrelevant, non-numerical or have many missing values\n",
    "    attr_cols = ['buildUpPlaySpeed', 'buildUpPlayPassing', 'chanceCreationPassing',\n",
    "             'chanceCreationCrossing', 'chanceCreationShooting','defencePressure', \n",
    "             'defenceAggression', 'defenceTeamWidth']\n",
    "    \n",
    "    if not api_id in seen_teams:\n",
    "        seen_teams[api_id] = fetch.get_team_data(api_id)\n",
    "    team, attrs = seen_teams[api_id]\n",
    "    \n",
    "    if len(attrs) == 0:\n",
    "        raise ValueError\n",
    "    \n",
    "    cur_attrs = None\n",
    "    for d in attrs:\n",
    "        if is_before(d[\"date\"], match_date):\n",
    "            if cur_attrs == None or is_before(cur_attrs[\"date\"], d[\"date\"]):\n",
    "                cur_attrs = d\n",
    "                \n",
    "    if cur_attrs == None:\n",
    "        cur_attrs = attrs[0]\n",
    "        \n",
    "    return [(team[col] if col in team and team[col] != None else 0) for col in team_cols] + \\\n",
    "           [(cur_attrs[col] if col in cur_attrs and cur_attrs[col] != None else 0) for col in attr_cols]"
   ]
  },
  {
   "cell_type": "code",
   "execution_count": 42,
   "metadata": {},
   "outputs": [
    {
     "data": {
      "text/plain": [
       "[58, 38, 30, 69, 56, 36, 57, 70]"
      ]
     },
     "execution_count": 42,
     "metadata": {},
     "output_type": "execute_result"
    }
   ],
   "source": [
    "team_vector(9987, \"2050-01-23 01:23:45\")"
   ]
  },
  {
   "cell_type": "code",
   "execution_count": 43,
   "metadata": {},
   "outputs": [],
   "source": [
    "# Let's summarize \"things known before the match\" as a vector X\n",
    "# and \"the result\" as an one-hot coded vector \n",
    "def match_vector (match_dict):\n",
    "    team_list = [\"home_team_api_id\", \"away_team_api_id\"]\n",
    "    player_list = [\"home_player_1\", \"home_player_2\", \"home_player_3\", \"home_player_4\",\n",
    "               \"home_player_5\", \"home_player_6\", \"home_player_7\", \"home_player_8\",\n",
    "               \"home_player_9\", \"home_player_10\", \"home_player_11\",\n",
    "               \"away_player_1\", \"away_player_2\", \"away_player_3\", \"away_player_4\",\n",
    "               \"away_player_5\", \"away_player_6\", \"away_player_7\", \"away_player_8\",\n",
    "               \"away_player_9\", \"away_player_10\", \"away_player_11\"]\n",
    "    \n",
    "    home_goal = match_dict[\"home_team_goal\"]\n",
    "    away_goal = match_dict[\"away_team_goal\"]\n",
    "    if home_goal > away_goal:\n",
    "        y = np.array([1, 0, 0])\n",
    "    elif home_goal == away_goal:\n",
    "        y = np.array([0, 1, 0])\n",
    "    else:\n",
    "        y = np.array([0, 0, 1])\n",
    "    \n",
    "    ans = []\n",
    "    for team in team_list:\n",
    "        ans += team_vector(match_dict[team], match_dict[\"date\"])\n",
    "    for player in player_list:\n",
    "        ans += player_vector(match_dict[player], match_dict[\"date\"])\n",
    "    return (np.array(ans), y)"
   ]
  },
  {
   "cell_type": "code",
   "execution_count": 33,
   "metadata": {},
   "outputs": [
    {
     "name": "stdout",
     "output_type": "stream",
     "text": [
      "4\n",
      "2015-11-28 00:00:00\n",
      "27314\n",
      "(array([ 48.  ,  41.  ,  38.  ,  51.  ,  40.  ,  35.  ,  50.  ,  61.  ,\n",
      "        55.  ,  46.  ,  47.  ,  53.  ,  51.  ,  37.  ,  48.  ,  49.  ,\n",
      "       187.96, 183.  ,  80.  ,  82.  ,  15.  ,  10.  ,  13.  ,  25.  ,\n",
      "        12.  ,  12.  ,  11.  ,  10.  ,  22.  ,  22.  ,  46.  ,  50.  ,\n",
      "        43.  ,  80.  ,  41.  ,  21.  ,  69.  ,  32.  ,  55.  ,  14.  ,\n",
      "        32.  ,  21.  ,  15.  ,  39.  ,  24.  ,  11.  ,  12.  ,  13.  ,\n",
      "       175.26, 152.  ,  75.  ,  77.  ,  69.  ,  40.  ,  59.  ,  72.  ,\n",
      "        61.  ,  68.  ,  59.  ,  50.  ,  64.  ,  72.  ,  75.  ,  74.  ,\n",
      "        80.  ,  74.  ,  82.  ,  82.  ,  63.  ,  74.  ,  64.  ,  65.  ,\n",
      "        76.  ,  77.  ,  49.  ,  60.  ,  51.  ,  77.  ,  78.  ,  80.  ,\n",
      "       190.5 , 176.  ,  75.  ,  75.  ,  26.  ,  44.  ,  80.  ,  75.  ,\n",
      "        42.  ,  63.  ,  39.  ,  41.  ,  73.  ,  65.  ,  65.  ,  72.  ,\n",
      "        57.  ,  74.  ,  47.  ,  76.  ,  72.  ,  75.  ,  83.  ,  30.  ,\n",
      "        74.  ,  72.  ,  34.  ,  37.  ,  51.  ,  75.  ,  78.  ,  71.  ,\n",
      "       185.42, 176.  ,  75.  ,  75.  ,  72.  ,  31.  ,  79.  ,  71.  ,\n",
      "        35.  ,  53.  ,  60.  ,  62.  ,  69.  ,  60.  ,  54.  ,  64.  ,\n",
      "        62.  ,  75.  ,  59.  ,  73.  ,  73.  ,  61.  ,  78.  ,  31.  ,\n",
      "        76.  ,  78.  ,  45.  ,  51.  ,  61.  ,  76.  ,  77.  ,  74.  ,\n",
      "       180.34, 176.  ,  72.  ,  76.  ,  79.  ,  36.  ,  59.  ,  76.  ,\n",
      "        60.  ,  75.  ,  77.  ,  72.  ,  75.  ,  73.  ,  74.  ,  67.  ,\n",
      "        73.  ,  72.  ,  75.  ,  69.  ,  64.  ,  75.  ,  68.  ,  69.  ,\n",
      "        78.  ,  64.  ,  50.  ,  67.  ,  66.  ,  76.  ,  73.  ,  75.  ,\n",
      "       170.18, 154.  ,  76.  ,  77.  ,  69.  ,  31.  ,  63.  ,  78.  ,\n",
      "        48.  ,  77.  ,  60.  ,  51.  ,  73.  ,  76.  ,  75.  ,  69.  ,\n",
      "        78.  ,  75.  ,  86.  ,  78.  ,  87.  ,  88.  ,  66.  ,  61.  ,\n",
      "        75.  ,  79.  ,  65.  ,  70.  ,  49.  ,  75.  ,  81.  ,  66.  ,\n",
      "       195.58, 187.  ,  77.  ,  79.  ,  59.  ,  36.  ,  88.  ,  77.  ,\n",
      "        26.  ,  68.  ,  33.  ,  58.  ,  64.  ,  71.  ,  65.  ,  63.  ,\n",
      "        60.  ,  77.  ,  43.  ,  73.  ,  54.  ,  76.  ,  85.  ,  53.  ,\n",
      "        84.  ,  83.  ,  44.  ,  61.  ,  43.  ,  75.  ,  88.  ,  74.  ,\n",
      "       170.18, 165.  ,  71.  ,  76.  ,  66.  ,  73.  ,  54.  ,  64.  ,\n",
      "        58.  ,  73.  ,  61.  ,  43.  ,  57.  ,  74.  ,  88.  ,  83.  ,\n",
      "        82.  ,  65.  ,  86.  ,  64.  ,  78.  ,  79.  ,  63.  ,  68.  ,\n",
      "        40.  ,  18.  ,  65.  ,  61.  ,  48.  ,  16.  ,  16.  ,  14.  ,\n",
      "       187.96, 179.  ,  76.  ,  76.  ,  49.  ,  66.  ,  78.  ,  76.  ,\n",
      "        68.  ,  68.  ,  56.  ,  61.  ,  71.  ,  77.  ,  55.  ,  52.  ,\n",
      "        65.  ,  78.  ,  60.  ,  83.  ,  82.  ,  69.  ,  78.  ,  71.  ,\n",
      "        85.  ,  77.  ,  67.  ,  73.  ,  74.  ,  73.  ,  78.  ,  74.  ,\n",
      "       187.96, 183.  ,  62.  ,  71.  ,  61.  ,  61.  ,  66.  ,  64.  ,\n",
      "        53.  ,  65.  ,  45.  ,  28.  ,  49.  ,  67.  ,  55.  ,  63.  ,\n",
      "        54.  ,  62.  ,  58.  ,  70.  ,  55.  ,  62.  ,  75.  ,  52.  ,\n",
      "        59.  ,  22.  ,  60.  ,  57.  ,  56.  ,  15.  ,  24.  ,  18.  ,\n",
      "       185.42, 179.  ,  73.  ,  76.  ,  55.  ,  72.  ,  79.  ,  71.  ,\n",
      "        66.  ,  69.  ,  43.  ,  51.  ,  36.  ,  71.  ,  63.  ,  77.  ,\n",
      "        66.  ,  75.  ,  59.  ,  74.  ,  81.  ,  65.  ,  75.  ,  62.  ,\n",
      "        71.  ,  32.  ,  77.  ,  65.  ,  71.  ,  35.  ,  32.  ,  24.  ,\n",
      "       187.96, 185.  ,  73.  ,  73.  ,  12.  ,  14.  ,  14.  ,  34.  ,\n",
      "        13.  ,  13.  ,  14.  ,  19.  ,  26.  ,  14.  ,  52.  ,  51.  ,\n",
      "        48.  ,  73.  ,  36.  ,  23.  ,  71.  ,  36.  ,  72.  ,  17.  ,\n",
      "        32.  ,  22.  ,  10.  ,  32.  ,  16.  ,  12.  ,  14.  ,  13.  ,\n",
      "       185.42, 176.  ,  69.  ,  69.  ,  65.  ,  29.  ,  64.  ,  63.  ,\n",
      "        41.  ,  57.  ,  58.  ,  47.  ,  58.  ,  60.  ,  63.  ,  67.  ,\n",
      "        54.  ,  70.  ,  59.  ,  63.  ,  67.  ,  76.  ,  77.  ,  54.  ,\n",
      "        81.  ,  63.  ,  43.  ,  46.  ,  40.  ,  73.  ,  77.  ,  78.  ,\n",
      "       182.88, 183.  ,  75.  ,  75.  ,  49.  ,  39.  ,  71.  ,  67.  ,\n",
      "        34.  ,  46.  ,  42.  ,  47.  ,  63.  ,  61.  ,  68.  ,  74.  ,\n",
      "        65.  ,  73.  ,  60.  ,  66.  ,  83.  ,  66.  ,  77.  ,  47.  ,\n",
      "        82.  ,  77.  ,  41.  ,  48.  ,  44.  ,  73.  ,  76.  ,  74.  ,\n",
      "       193.04, 187.  ,  72.  ,  74.  ,  47.  ,  20.  ,  77.  ,  53.  ,\n",
      "        38.  ,  58.  ,  40.  ,  42.  ,  45.  ,  65.  ,  54.  ,  55.  ,\n",
      "        48.  ,  71.  ,  36.  ,  52.  ,  59.  ,  62.  ,  78.  ,  22.  ,\n",
      "        74.  ,  72.  ,  41.  ,  51.  ,  50.  ,  73.  ,  75.  ,  69.  ,\n",
      "       182.88, 168.  ,  66.  ,  73.  ,  47.  ,  40.  ,  53.  ,  68.  ,\n",
      "        48.  ,  56.  ,  45.  ,  47.  ,  65.  ,  64.  ,  61.  ,  55.  ,\n",
      "        66.  ,  63.  ,  65.  ,  66.  ,  65.  ,  68.  ,  74.  ,  59.  ,\n",
      "        72.  ,  67.  ,  47.  ,  60.  ,  44.  ,  57.  ,  66.  ,  64.  ,\n",
      "       180.34, 168.  ,  75.  ,  78.  ,  75.  ,  65.  ,  53.  ,  79.  ,\n",
      "        61.  ,  72.  ,  78.  ,  77.  ,  76.  ,  76.  ,  69.  ,  67.  ,\n",
      "        68.  ,  73.  ,  73.  ,  74.  ,  71.  ,  83.  ,  70.  ,  68.  ,\n",
      "        66.  ,  71.  ,  68.  ,  76.  ,  57.  ,  58.  ,  64.  ,  63.  ,\n",
      "       182.88, 190.  ,  72.  ,  72.  ,  44.  ,  42.  ,  68.  ,  72.  ,\n",
      "        47.  ,  53.  ,  58.  ,  56.  ,  69.  ,  61.  ,  55.  ,  60.  ,\n",
      "        63.  ,  72.  ,  63.  ,  68.  ,  85.  ,  77.  ,  81.  ,  57.  ,\n",
      "        79.  ,  79.  ,  50.  ,  63.  ,  57.  ,  70.  ,  75.  ,  70.  ,\n",
      "       182.88, 170.  ,  71.  ,  73.  ,  61.  ,  53.  ,  55.  ,  74.  ,\n",
      "        49.  ,  68.  ,  64.  ,  53.  ,  70.  ,  73.  ,  79.  ,  69.  ,\n",
      "        76.  ,  71.  ,  69.  ,  70.  ,  72.  ,  87.  ,  68.  ,  64.  ,\n",
      "        81.  ,  70.  ,  62.  ,  73.  ,  45.  ,  63.  ,  67.  ,  68.  ,\n",
      "       182.88, 170.  ,  68.  ,  68.  ,  63.  ,  68.  ,  67.  ,  66.  ,\n",
      "        66.  ,  70.  ,  53.  ,  47.  ,  49.  ,  67.  ,  75.  ,  69.  ,\n",
      "        77.  ,  68.  ,  69.  ,  71.  ,  81.  ,  74.  ,  67.  ,  62.  ,\n",
      "        64.  ,  27.  ,  69.  ,  56.  ,  59.  ,  18.  ,  22.  ,  21.  ,\n",
      "       193.04, 205.  ,  67.  ,  68.  ,  36.  ,  68.  ,  78.  ,  60.  ,\n",
      "        65.  ,  56.  ,  46.  ,  34.  ,  42.  ,  64.  ,  51.  ,  53.  ,\n",
      "        38.  ,  67.  ,  39.  ,  74.  ,  62.  ,  62.  ,  84.  ,  57.  ,\n",
      "        53.  ,  28.  ,  69.  ,  56.  ,  61.  ,  24.  ,  27.  ,  24.  ,\n",
      "       180.34, 181.  ,  73.  ,  76.  ,  67.  ,  71.  ,  58.  ,  69.  ,\n",
      "        63.  ,  73.  ,  72.  ,  36.  ,  54.  ,  71.  ,  91.  ,  90.  ,\n",
      "        77.  ,  70.  ,  77.  ,  75.  ,  77.  ,  78.  ,  63.  ,  66.  ,\n",
      "        73.  ,  30.  ,  71.  ,  63.  ,  69.  ,  15.  ,  30.  ,  12.  ]), array([1, 0, 0]))\n",
      "(720,)\n"
     ]
    }
   ],
   "source": [
    "matches = fetch.get_all_matches()\n",
    "cur_match = matches[10000]\n",
    "print(cur_match[\"home_team_goal\"])\n",
    "print(cur_match[\"date\"])\n",
    "print(cur_match[\"home_player_9\"])\n",
    "# print(player_vector(cur_match[\"home_player_9\"], cur_match[\"date\"]))\n",
    "vec = match_vector(cur_match)\n",
    "print(vec)\n",
    "print(vec[0].shape)"
   ]
  },
  {
   "cell_type": "markdown",
   "metadata": {},
   "source": [
    "We now can turn each match into a vector of data known right before the match, and the outcome. Let's build a neural network that learns to predict the outcome."
   ]
  },
  {
   "cell_type": "code",
   "execution_count": 34,
   "metadata": {},
   "outputs": [],
   "source": [
    "import keras"
   ]
  },
  {
   "cell_type": "code",
   "execution_count": 69,
   "metadata": {},
   "outputs": [
    {
     "name": "stdout",
     "output_type": "stream",
     "text": [
      "_________________________________________________________________\n",
      "Layer (type)                 Output Shape              Param #   \n",
      "=================================================================\n",
      "dense_28 (Dense)             (None, 32)                23072     \n",
      "_________________________________________________________________\n",
      "activation_27 (Activation)   (None, 32)                0         \n",
      "_________________________________________________________________\n",
      "dense_29 (Dense)             (None, 32)                1056      \n",
      "_________________________________________________________________\n",
      "activation_28 (Activation)   (None, 32)                0         \n",
      "_________________________________________________________________\n",
      "dense_30 (Dense)             (None, 3)                 99        \n",
      "_________________________________________________________________\n",
      "activation_29 (Activation)   (None, 3)                 0         \n",
      "=================================================================\n",
      "Total params: 24,227\n",
      "Trainable params: 24,227\n",
      "Non-trainable params: 0\n",
      "_________________________________________________________________\n"
     ]
    }
   ],
   "source": [
    "from keras.models import Sequential\n",
    "from keras.layers import Input, Activation, Dense\n",
    "from keras.optimizers import Adam\n",
    "\n",
    "model = Sequential()\n",
    "model.add(Dense(32, input_shape=(720,)))\n",
    "model.add(Activation(\"relu\"))\n",
    "model.add(Dense(32))\n",
    "model.add(Activation(\"relu\"))\n",
    "model.add(Dense(3))\n",
    "model.add(Activation(\"softmax\"))\n",
    "\n",
    "model.compile(loss = \"categorical_crossentropy\", optimizer = Adam(lr = 1e-2), metrics = [\"accuracy\"])\n",
    "model.summary()"
   ]
  },
  {
   "cell_type": "code",
   "execution_count": 47,
   "metadata": {},
   "outputs": [
    {
     "name": "stdout",
     "output_type": "stream",
     "text": [
      "(9204, 720)\n",
      "(9204, 3)\n",
      "(2000, 720)\n",
      "(2000, 3)\n"
     ]
    }
   ],
   "source": [
    "matches_train = matches[10000:25000]\n",
    "xs = []\n",
    "ys = []\n",
    "for i, match in enumerate(matches_train):\n",
    "    try:\n",
    "        (x, y) = match_vector(match)\n",
    "        xs.append(x)\n",
    "        ys.append(y)\n",
    "    except ValueError:\n",
    "        pass\n",
    "    \n",
    "x_train = np.array(xs[:-2000])\n",
    "y_train = np.array(ys[:-2000])\n",
    "x_test = np.array(xs[-2000:])\n",
    "y_test = np.array(ys[-2000:])\n",
    "\n",
    "print(x_train.shape)\n",
    "print(y_train.shape)\n",
    "print(x_test.shape)\n",
    "print(y_test.shape)"
   ]
  },
  {
   "cell_type": "code",
   "execution_count": 71,
   "metadata": {},
   "outputs": [
    {
     "name": "stdout",
     "output_type": "stream",
     "text": [
      "Train on 9204 samples, validate on 2000 samples\n",
      "Epoch 1/20\n",
      "9204/9204 [==============================] - 1s 95us/step - loss: 8.7017 - acc: 0.4601 - val_loss: 8.3492 - val_acc: 0.4820\n",
      "Epoch 2/20\n",
      "9204/9204 [==============================] - 1s 104us/step - loss: 8.7017 - acc: 0.4601 - val_loss: 8.3492 - val_acc: 0.4820\n",
      "Epoch 3/20\n",
      "9204/9204 [==============================] - 1s 95us/step - loss: 8.7017 - acc: 0.4601 - val_loss: 8.3492 - val_acc: 0.4820\n",
      "Epoch 4/20\n",
      "9204/9204 [==============================] - 1s 95us/step - loss: 8.7017 - acc: 0.4601 - val_loss: 8.3492 - val_acc: 0.4820\n",
      "Epoch 5/20\n",
      "9204/9204 [==============================] - 1s 91us/step - loss: 8.7017 - acc: 0.4601 - val_loss: 8.3492 - val_acc: 0.4820\n",
      "Epoch 6/20\n",
      "9204/9204 [==============================] - 1s 98us/step - loss: 8.7017 - acc: 0.4601 - val_loss: 8.3492 - val_acc: 0.4820\n",
      "Epoch 7/20\n",
      "9204/9204 [==============================] - 1s 115us/step - loss: 8.7017 - acc: 0.4601 - val_loss: 8.3492 - val_acc: 0.4820\n",
      "Epoch 8/20\n",
      "9204/9204 [==============================] - 1s 136us/step - loss: 8.7017 - acc: 0.4601 - val_loss: 8.3492 - val_acc: 0.4820\n",
      "Epoch 9/20\n",
      "9204/9204 [==============================] - 1s 114us/step - loss: 8.7017 - acc: 0.4601 - val_loss: 8.3492 - val_acc: 0.4820\n",
      "Epoch 10/20\n",
      "9204/9204 [==============================] - 1s 95us/step - loss: 8.7017 - acc: 0.4601 - val_loss: 8.3492 - val_acc: 0.4820\n",
      "Epoch 11/20\n",
      "9204/9204 [==============================] - 1s 93us/step - loss: 8.7017 - acc: 0.4601 - val_loss: 8.3492 - val_acc: 0.4820\n",
      "Epoch 12/20\n",
      "9204/9204 [==============================] - 1s 95us/step - loss: 8.7017 - acc: 0.4601 - val_loss: 8.3492 - val_acc: 0.4820\n",
      "Epoch 13/20\n",
      "9204/9204 [==============================] - 1s 97us/step - loss: 8.7017 - acc: 0.4601 - val_loss: 8.3492 - val_acc: 0.4820\n",
      "Epoch 14/20\n",
      "9204/9204 [==============================] - 1s 109us/step - loss: 8.7017 - acc: 0.4601 - val_loss: 8.3492 - val_acc: 0.4820\n",
      "Epoch 15/20\n",
      "9204/9204 [==============================] - 1s 103us/step - loss: 8.7017 - acc: 0.4601 - val_loss: 8.3492 - val_acc: 0.4820\n",
      "Epoch 16/20\n",
      "9204/9204 [==============================] - 1s 101us/step - loss: 8.7017 - acc: 0.4601 - val_loss: 8.3492 - val_acc: 0.4820\n",
      "Epoch 17/20\n",
      "9204/9204 [==============================] - 1s 101us/step - loss: 8.7017 - acc: 0.4601 - val_loss: 8.3492 - val_acc: 0.4820\n",
      "Epoch 18/20\n",
      "9204/9204 [==============================] - 2s 171us/step - loss: 8.7017 - acc: 0.4601 - val_loss: 8.3492 - val_acc: 0.4820\n",
      "Epoch 19/20\n",
      "9204/9204 [==============================] - 1s 162us/step - loss: 8.7017 - acc: 0.4601 - val_loss: 8.3492 - val_acc: 0.4820\n",
      "Epoch 20/20\n",
      "9204/9204 [==============================] - 2s 231us/step - loss: 8.7017 - acc: 0.4601 - val_loss: 8.3492 - val_acc: 0.4820\n"
     ]
    }
   ],
   "source": [
    "history = model.fit(x_train, y_train, batch_size=50, epochs=20, validation_data=(x_test, y_test))"
   ]
  },
  {
   "cell_type": "code",
   "execution_count": null,
   "metadata": {},
   "outputs": [],
   "source": []
  }
 ],
 "metadata": {
  "kernelspec": {
   "display_name": "Python 3",
   "language": "python",
   "name": "python3"
  },
  "language_info": {
   "codemirror_mode": {
    "name": "ipython",
    "version": 3
   },
   "file_extension": ".py",
   "mimetype": "text/x-python",
   "name": "python",
   "nbconvert_exporter": "python",
   "pygments_lexer": "ipython3",
   "version": "3.6.10"
  }
 },
 "nbformat": 4,
 "nbformat_minor": 4
}
