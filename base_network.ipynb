{
 "cells": [
  {
   "cell_type": "markdown",
   "metadata": {},
   "source": [
    "Let's try to describe the meaningful data of each match as a vector."
   ]
  },
  {
   "cell_type": "code",
   "execution_count": 1,
   "metadata": {},
   "outputs": [],
   "source": [
    "from fetcher import Fetcher\n",
    "import numpy as np\n",
    "\n",
    "fetch = Fetcher(\"data/database.sqlite\")"
   ]
  },
  {
   "cell_type": "code",
   "execution_count": 2,
   "metadata": {},
   "outputs": [
    {
     "data": {
      "text/plain": [
       "dict_keys(['id', 'player_fifa_api_id', 'player_api_id', 'date', 'overall_rating', 'potential', 'preferred_foot', 'attacking_work_rate', 'defensive_work_rate', 'crossing', 'finishing', 'heading_accuracy', 'short_passing', 'volleys', 'dribbling', 'curve', 'free_kick_accuracy', 'long_passing', 'ball_control', 'acceleration', 'sprint_speed', 'agility', 'reactions', 'balance', 'shot_power', 'jumping', 'stamina', 'strength', 'long_shots', 'aggression', 'interceptions', 'positioning', 'vision', 'penalties', 'marking', 'standing_tackle', 'sliding_tackle', 'gk_diving', 'gk_handling', 'gk_kicking', 'gk_positioning', 'gk_reflexes'])"
      ]
     },
     "execution_count": 2,
     "metadata": {},
     "output_type": "execute_result"
    }
   ],
   "source": [
    "player, attrs = fetch.get_player_data(505942)\n",
    "attrs[0].keys()"
   ]
  },
  {
   "cell_type": "code",
   "execution_count": 3,
   "metadata": {},
   "outputs": [],
   "source": [
    "import datetime\n",
    "\n",
    "# is date a before date b?\n",
    "def is_before (a, b):\n",
    "    a_dt = datetime.datetime.strptime(a, '%Y-%m-%d %H:%M:%S')\n",
    "    b_dt = datetime.datetime.strptime(b, '%Y-%m-%d %H:%M:%S')\n",
    "    return a_dt <= b_dt"
   ]
  },
  {
   "cell_type": "code",
   "execution_count": 4,
   "metadata": {},
   "outputs": [],
   "source": [
    "seen_players = {}\n",
    "\n",
    "# Summarize the player (at a given point in time)\n",
    "# to a single vector\n",
    "def player_vector (api_id, match_date):\n",
    "    player_cols = ['height', 'weight']\n",
    "    # Manually removed some that look suspicious or are non-numerical\n",
    "    attr_cols = ['overall_rating', 'potential',\n",
    "             'crossing', 'finishing', 'heading_accuracy', 'short_passing', 'volleys', \n",
    "             'dribbling', 'curve', 'free_kick_accuracy', 'long_passing', 'ball_control', \n",
    "             'acceleration', 'sprint_speed', 'agility', 'reactions', 'balance', 'shot_power', \n",
    "             'jumping', 'stamina', 'strength', 'long_shots', 'aggression', 'interceptions', 'positioning', \n",
    "             'vision', 'penalties', 'marking', 'standing_tackle', 'sliding_tackle']\n",
    "    \n",
    "    if not api_id in seen_players:\n",
    "        seen_players[api_id] = fetch.get_player_data(api_id)\n",
    "    player, attrs = seen_players[api_id]\n",
    "    \n",
    "    if len(attrs) == 0:\n",
    "        raise ValueError\n",
    "    \n",
    "    # let's find the most recent dict before match_date\n",
    "    cur_attrs = None\n",
    "    for d in attrs:\n",
    "        if is_before(d[\"date\"], match_date):\n",
    "            if cur_attrs == None or is_before(cur_attrs[\"date\"], d[\"date\"]):\n",
    "                cur_attrs = d\n",
    "                \n",
    "    # something is better than nothing\n",
    "    if cur_attrs == None:\n",
    "        cur_attrs = attrs[0]\n",
    "                \n",
    "    return [(player[col] if (col in player and player[col] != None) else 0) for col in player_cols] + \\\n",
    "           [(cur_attrs[col] if (col in cur_attrs and cur_attrs[col] != None) else 0) for col in attr_cols]"
   ]
  },
  {
   "cell_type": "code",
   "execution_count": 5,
   "metadata": {},
   "outputs": [
    {
     "data": {
      "text/plain": [
       "[175.26,\n",
       " 152,\n",
       " 56,\n",
       " 67,\n",
       " 55,\n",
       " 47,\n",
       " 35,\n",
       " 62,\n",
       " 53,\n",
       " 60,\n",
       " 53,\n",
       " 53,\n",
       " 57,\n",
       " 62,\n",
       " 72,\n",
       " 70,\n",
       " 75,\n",
       " 57,\n",
       " 52,\n",
       " 55,\n",
       " 57,\n",
       " 59,\n",
       " 47,\n",
       " 54,\n",
       " 37,\n",
       " 44,\n",
       " 47,\n",
       " 57,\n",
       " 56,\n",
       " 26,\n",
       " 30,\n",
       " 27]"
      ]
     },
     "execution_count": 5,
     "metadata": {},
     "output_type": "execute_result"
    }
   ],
   "source": [
    "player_vector(148336, \"2009-04-10 00:00:00\")"
   ]
  },
  {
   "cell_type": "code",
   "execution_count": 6,
   "metadata": {},
   "outputs": [
    {
     "name": "stdout",
     "output_type": "stream",
     "text": [
      "dict_keys(['id', 'team_api_id', 'team_fifa_api_id', 'team_long_name', 'team_short_name'])\n",
      "dict_keys(['id', 'team_fifa_api_id', 'team_api_id', 'date', 'buildUpPlaySpeed', 'buildUpPlaySpeedClass', 'buildUpPlayDribbling', 'buildUpPlayDribblingClass', 'buildUpPlayPassing', 'buildUpPlayPassingClass', 'buildUpPlayPositioningClass', 'chanceCreationPassing', 'chanceCreationPassingClass', 'chanceCreationCrossing', 'chanceCreationCrossingClass', 'chanceCreationShooting', 'chanceCreationShootingClass', 'chanceCreationPositioningClass', 'defencePressure', 'defencePressureClass', 'defenceAggression', 'defenceAggressionClass', 'defenceTeamWidth', 'defenceTeamWidthClass', 'defenceDefenderLineClass'])\n"
     ]
    }
   ],
   "source": [
    "team, attrs = fetch.get_team_data(9987)\n",
    "print(team.keys())\n",
    "print(attrs[0].keys())"
   ]
  },
  {
   "cell_type": "code",
   "execution_count": 7,
   "metadata": {},
   "outputs": [],
   "source": [
    "seen_teams = {}\n",
    "\n",
    "# Summarize the team (at a given point in time)\n",
    "# to a single vector\n",
    "def team_vector (api_id, match_date):\n",
    "    team_cols = []\n",
    "    # Again, removed some that are irrelevant, non-numerical or have many missing values\n",
    "    attr_cols = ['buildUpPlaySpeed', 'buildUpPlayPassing', 'chanceCreationPassing',\n",
    "             'chanceCreationCrossing', 'chanceCreationShooting','defencePressure', \n",
    "             'defenceAggression', 'defenceTeamWidth']\n",
    "    \n",
    "    if not api_id in seen_teams:\n",
    "        seen_teams[api_id] = fetch.get_team_data(api_id)\n",
    "    team, attrs = seen_teams[api_id]\n",
    "    \n",
    "    if len(attrs) == 0:\n",
    "        raise ValueError\n",
    "    \n",
    "    cur_attrs = None\n",
    "    for d in attrs:\n",
    "        if is_before(d[\"date\"], match_date):\n",
    "            if cur_attrs == None or is_before(cur_attrs[\"date\"], d[\"date\"]):\n",
    "                cur_attrs = d\n",
    "                \n",
    "    if cur_attrs == None:\n",
    "        cur_attrs = attrs[0]\n",
    "        \n",
    "    return [(team[col] if col in team and team[col] != None else 0) for col in team_cols] + \\\n",
    "           [(cur_attrs[col] if col in cur_attrs and cur_attrs[col] != None else 0) for col in attr_cols]"
   ]
  },
  {
   "cell_type": "code",
   "execution_count": 8,
   "metadata": {},
   "outputs": [
    {
     "data": {
      "text/plain": [
       "[58, 38, 30, 69, 56, 36, 57, 70]"
      ]
     },
     "execution_count": 8,
     "metadata": {},
     "output_type": "execute_result"
    }
   ],
   "source": [
    "team_vector(9987, \"2050-01-23 01:23:45\")"
   ]
  },
  {
   "cell_type": "code",
   "execution_count": 9,
   "metadata": {},
   "outputs": [],
   "source": [
    "# Let's summarize \"things known before the match\" as a vector X\n",
    "# and \"the result\" as an one-hot coded vector \n",
    "def match_vector (match_dict):\n",
    "    team_list = [\"home_team_api_id\", \"away_team_api_id\"]\n",
    "    player_list = [\"home_player_1\", \"home_player_2\", \"home_player_3\", \"home_player_4\",\n",
    "               \"home_player_5\", \"home_player_6\", \"home_player_7\", \"home_player_8\",\n",
    "               \"home_player_9\", \"home_player_10\", \"home_player_11\",\n",
    "               \"away_player_1\", \"away_player_2\", \"away_player_3\", \"away_player_4\",\n",
    "               \"away_player_5\", \"away_player_6\", \"away_player_7\", \"away_player_8\",\n",
    "               \"away_player_9\", \"away_player_10\", \"away_player_11\"]\n",
    "    \n",
    "    home_goal = match_dict[\"home_team_goal\"]\n",
    "    away_goal = match_dict[\"away_team_goal\"]\n",
    "    if home_goal > away_goal:\n",
    "        y = np.array([1, 0, 0])\n",
    "    elif home_goal == away_goal:\n",
    "        y = np.array([0, 1, 0])\n",
    "    else:\n",
    "        y = np.array([0, 0, 1])\n",
    "    \n",
    "    ans = []\n",
    "    for team in team_list:\n",
    "        ans += team_vector(match_dict[team], match_dict[\"date\"])\n",
    "    for player in player_list:\n",
    "        ans += player_vector(match_dict[player], match_dict[\"date\"])\n",
    "    return (np.array(ans), y)"
   ]
  },
  {
   "cell_type": "code",
   "execution_count": 10,
   "metadata": {},
   "outputs": [
    {
     "name": "stdout",
     "output_type": "stream",
     "text": [
      "1\n",
      "2\n",
      "2015-12-05 00:00:00\n",
      "243164\n",
      "(array([ 68.  ,  57.  ,  69.  ,  66.  ,  50.  ,  66.  ,  46.  ,  55.  ,\n",
      "        71.  ,  40.  ,  70.  ,  44.  ,  49.  ,  65.  ,  71.  ,  40.  ,\n",
      "       193.04, 196.  ,  81.  ,  81.  ,  14.  ,   8.  ,  15.  ,  32.  ,\n",
      "        12.  ,  13.  ,  12.  ,  13.  ,  31.  ,  20.  ,  42.  ,  44.  ,\n",
      "        44.  ,  79.  ,  47.  ,  22.  ,  73.  ,  43.  ,  76.  ,  11.  ,\n",
      "        38.  ,  22.  ,   7.  ,  37.  ,  23.  ,  10.  ,  13.  ,  14.  ,\n",
      "       172.72, 161.  ,  80.  ,  80.  ,  80.  ,  73.  ,  42.  ,  79.  ,\n",
      "        65.  ,  87.  ,  74.  ,  67.  ,  70.  ,  84.  ,  84.  ,  76.  ,\n",
      "        86.  ,  81.  ,  85.  ,  78.  ,  69.  ,  75.  ,  57.  ,  76.  ,\n",
      "        75.  ,  72.  ,  78.  ,  78.  ,  66.  ,  67.  ,  64.  ,  64.  ,\n",
      "       198.12, 196.  ,  84.  ,  84.  ,  45.  ,  57.  ,  93.  ,  74.  ,\n",
      "        60.  ,  60.  ,  52.  ,  76.  ,  70.  ,  69.  ,  67.  ,  77.  ,\n",
      "        57.  ,  83.  ,  42.  ,  92.  ,  46.  ,  62.  ,  84.  ,  82.  ,\n",
      "        73.  ,  93.  ,  53.  ,  59.  ,  60.  ,  84.  ,  87.  ,  85.  ,\n",
      "       193.04, 192.  ,  77.  ,  78.  ,  42.  ,  33.  ,  84.  ,  72.  ,\n",
      "        33.  ,  41.  ,  40.  ,  34.  ,  73.  ,  61.  ,  48.  ,  52.  ,\n",
      "        40.  ,  74.  ,  34.  ,  64.  ,  52.  ,  63.  ,  85.  ,  40.  ,\n",
      "        74.  ,  78.  ,  45.  ,  50.  ,  41.  ,  79.  ,  80.  ,  75.  ,\n",
      "       180.34, 170.  ,  83.  ,  87.  ,  92.  ,  59.  ,  75.  ,  81.  ,\n",
      "        66.  ,  78.  ,  82.  ,  84.  ,  78.  ,  80.  ,  74.  ,  76.  ,\n",
      "        75.  ,  85.  ,  73.  ,  78.  ,  75.  ,  78.  ,  74.  ,  73.  ,\n",
      "        79.  ,  84.  ,  68.  ,  75.  ,  82.  ,  85.  ,  84.  ,  86.  ,\n",
      "       182.88, 174.  ,  78.  ,  79.  ,  74.  ,  69.  ,  56.  ,  77.  ,\n",
      "        68.  ,  84.  ,  78.  ,  61.  ,  64.  ,  80.  ,  84.  ,  82.  ,\n",
      "        79.  ,  78.  ,  79.  ,  76.  ,  76.  ,  76.  ,  66.  ,  70.  ,\n",
      "        59.  ,  47.  ,  77.  ,  76.  ,  80.  ,  20.  ,  24.  ,  25.  ,\n",
      "       187.96, 170.  ,  78.  ,  80.  ,  52.  ,  49.  ,  78.  ,  76.  ,\n",
      "        49.  ,  67.  ,  42.  ,  53.  ,  75.  ,  73.  ,  66.  ,  73.  ,\n",
      "        54.  ,  77.  ,  58.  ,  78.  ,  76.  ,  79.  ,  80.  ,  66.  ,\n",
      "        80.  ,  83.  ,  63.  ,  65.  ,  50.  ,  79.  ,  82.  ,  78.  ,\n",
      "       182.88, 163.  ,  76.  ,  83.  ,  63.  ,  76.  ,  54.  ,  77.  ,\n",
      "        75.  ,  78.  ,  73.  ,  59.  ,  76.  ,  79.  ,  73.  ,  67.  ,\n",
      "        76.  ,  77.  ,  70.  ,  86.  ,  52.  ,  76.  ,  60.  ,  84.  ,\n",
      "        62.  ,  70.  ,  77.  ,  77.  ,  59.  ,  57.  ,  65.  ,  64.  ,\n",
      "       187.96, 165.  ,  80.  ,  85.  ,  78.  ,  75.  ,  65.  ,  83.  ,\n",
      "        79.  ,  86.  ,  78.  ,  72.  ,  74.  ,  84.  ,  78.  ,  77.  ,\n",
      "        83.  ,  81.  ,  75.  ,  81.  ,  76.  ,  69.  ,  63.  ,  85.  ,\n",
      "        48.  ,  36.  ,  77.  ,  77.  ,  62.  ,  25.  ,  35.  ,  26.  ,\n",
      "       182.88, 163.  ,  79.  ,  83.  ,  75.  ,  75.  ,  61.  ,  78.  ,\n",
      "        80.  ,  83.  ,  77.  ,  70.  ,  60.  ,  78.  ,  91.  ,  86.  ,\n",
      "        84.  ,  81.  ,  78.  ,  85.  ,  72.  ,  72.  ,  64.  ,  83.  ,\n",
      "        64.  ,  43.  ,  78.  ,  75.  ,  81.  ,  23.  ,  32.  ,  39.  ,\n",
      "       180.34, 168.  ,  81.  ,  82.  ,  81.  ,  80.  ,  54.  ,  83.  ,\n",
      "        79.  ,  82.  ,  76.  ,  69.  ,  69.  ,  83.  ,  74.  ,  76.  ,\n",
      "        77.  ,  83.  ,  76.  ,  79.  ,  69.  ,  83.  ,  72.  ,  78.  ,\n",
      "        65.  ,  39.  ,  83.  ,  80.  ,  84.  ,  35.  ,  38.  ,  34.  ,\n",
      "       187.96, 187.  ,  80.  ,  84.  ,  15.  ,   8.  ,  17.  ,  37.  ,\n",
      "        13.  ,  16.  ,  13.  ,  12.  ,  24.  ,  23.  ,  49.  ,  53.  ,\n",
      "        51.  ,  79.  ,  52.  ,  22.  ,  74.  ,  36.  ,  74.  ,  14.  ,\n",
      "        35.  ,  18.  ,  10.  ,  47.  ,  20.  ,  14.  ,  13.  ,  16.  ,\n",
      "       182.88, 174.  ,  80.  ,  80.  ,  81.  ,  61.  ,  74.  ,  75.  ,\n",
      "        66.  ,  74.  ,  73.  ,  47.  ,  68.  ,  76.  ,  75.  ,  82.  ,\n",
      "        67.  ,  80.  ,  67.  ,  76.  ,  75.  ,  79.  ,  79.  ,  68.  ,\n",
      "        83.  ,  81.  ,  71.  ,  66.  ,  65.  ,  79.  ,  84.  ,  84.  ,\n",
      "       190.5 , 183.  ,  79.  ,  80.  ,  47.  ,  29.  ,  86.  ,  50.  ,\n",
      "        32.  ,  39.  ,  33.  ,  58.  ,  69.  ,  41.  ,  67.  ,  74.  ,\n",
      "        62.  ,  76.  ,  60.  ,  81.  ,  74.  ,  69.  ,  82.  ,  47.  ,\n",
      "        82.  ,  70.  ,  48.  ,  44.  ,  43.  ,  85.  ,  87.  ,  85.  ,\n",
      "       185.42, 176.  ,  80.  ,  81.  ,  52.  ,  44.  ,  78.  ,  77.  ,\n",
      "        54.  ,  58.  ,  33.  ,  40.  ,  73.  ,  71.  ,  64.  ,  66.  ,\n",
      "        62.  ,  80.  ,  62.  ,  73.  ,  77.  ,  91.  ,  77.  ,  62.  ,\n",
      "        87.  ,  86.  ,  49.  ,  66.  ,  52.  ,  81.  ,  86.  ,  87.  ,\n",
      "       180.34, 159.  ,  77.  ,  78.  ,  79.  ,  37.  ,  71.  ,  73.  ,\n",
      "        47.  ,  68.  ,  74.  ,  70.  ,  66.  ,  70.  ,  74.  ,  81.  ,\n",
      "        68.  ,  76.  ,  65.  ,  74.  ,  73.  ,  83.  ,  74.  ,  60.  ,\n",
      "        81.  ,  73.  ,  54.  ,  52.  ,  46.  ,  78.  ,  81.  ,  82.  ,\n",
      "       190.5 , 194.  ,  75.  ,  81.  ,  70.  ,  51.  ,  82.  ,  76.  ,\n",
      "        54.  ,  63.  ,  58.  ,  52.  ,  74.  ,  72.  ,  58.  ,  66.  ,\n",
      "        60.  ,  78.  ,  54.  ,  78.  ,  67.  ,  73.  ,  81.  ,  56.  ,\n",
      "        68.  ,  81.  ,  57.  ,  66.  ,  66.  ,  78.  ,  80.  ,  77.  ,\n",
      "       180.34, 176.  ,  83.  ,  86.  ,  74.  ,  66.  ,  49.  ,  88.  ,\n",
      "        75.  ,  86.  ,  81.  ,  73.  ,  82.  ,  85.  ,  77.  ,  74.  ,\n",
      "        84.  ,  86.  ,  83.  ,  77.  ,  62.  ,  75.  ,  74.  ,  74.  ,\n",
      "        68.  ,  78.  ,  77.  ,  85.  ,  76.  ,  57.  ,  63.  ,  64.  ,\n",
      "       177.8 , 165.  ,  81.  ,  83.  ,  73.  ,  68.  ,  53.  ,  78.  ,\n",
      "        84.  ,  87.  ,  83.  ,  64.  ,  75.  ,  86.  ,  87.  ,  84.  ,\n",
      "        90.  ,  83.  ,  81.  ,  87.  ,  72.  ,  82.  ,  66.  ,  74.  ,\n",
      "        68.  ,  68.  ,  83.  ,  83.  ,  72.  ,  49.  ,  53.  ,  55.  ,\n",
      "       172.72, 163.  ,  81.  ,  81.  ,  82.  ,  68.  ,  60.  ,  84.  ,\n",
      "        62.  ,  81.  ,  79.  ,  75.  ,  80.  ,  82.  ,  76.  ,  72.  ,\n",
      "        82.  ,  83.  ,  83.  ,  76.  ,  77.  ,  81.  ,  64.  ,  75.  ,\n",
      "        63.  ,  83.  ,  78.  ,  81.  ,  55.  ,  76.  ,  71.  ,  70.  ,\n",
      "       180.34, 165.  ,  86.  ,  88.  ,  85.  ,  83.  ,  51.  ,  87.  ,\n",
      "        82.  ,  87.  ,  90.  ,  84.  ,  79.  ,  85.  ,  89.  ,  91.  ,\n",
      "        89.  ,  87.  ,  82.  ,  84.  ,  70.  ,  73.  ,  65.  ,  86.  ,\n",
      "        47.  ,  50.  ,  87.  ,  84.  ,  84.  ,  30.  ,  36.  ,  45.  ,\n",
      "       187.96, 176.  ,  84.  ,  85.  ,  81.  ,  88.  ,  77.  ,  74.  ,\n",
      "        84.  ,  81.  ,  78.  ,  74.  ,  64.  ,  81.  ,  95.  ,  96.  ,\n",
      "        80.  ,  84.  ,  66.  ,  78.  ,  76.  ,  79.  ,  77.  ,  77.  ,\n",
      "        45.  ,  48.  ,  86.  ,  77.  ,  84.  ,  28.  ,  25.  ,  36.  ]), array([0, 0, 1]))\n",
      "(720,)\n"
     ]
    }
   ],
   "source": [
    "matches = fetch.get_all_matches()\n",
    "cur_match = matches[10006]\n",
    "print(cur_match[\"home_team_goal\"])\n",
    "print(cur_match[\"away_team_goal\"])\n",
    "print(cur_match[\"date\"])\n",
    "print(cur_match[\"home_player_9\"])\n",
    "# print(player_vector(cur_match[\"home_player_9\"], cur_match[\"date\"]))\n",
    "vec = match_vector(cur_match)\n",
    "print(vec)\n",
    "print(vec[0].shape)"
   ]
  },
  {
   "cell_type": "markdown",
   "metadata": {},
   "source": [
    "We now can turn each match into a vector of data known right before the match, and the outcome. Let's build a neural network that learns to predict the outcome."
   ]
  },
  {
   "cell_type": "code",
   "execution_count": 11,
   "metadata": {},
   "outputs": [
    {
     "name": "stderr",
     "output_type": "stream",
     "text": [
      "C:\\Users\\rasmusm\\AppData\\Local\\Continuum\\anaconda3\\lib\\site-packages\\h5py\\__init__.py:36: FutureWarning: Conversion of the second argument of issubdtype from `float` to `np.floating` is deprecated. In future, it will be treated as `np.float64 == np.dtype(float).type`.\n",
      "  from ._conv import register_converters as _register_converters\n",
      "Using TensorFlow backend.\n"
     ]
    }
   ],
   "source": [
    "import keras\n",
    "\n",
    "from keras.models import Sequential\n",
    "from keras.layers import Input, Activation, Dense\n",
    "from keras.optimizers import Adam"
   ]
  },
  {
   "cell_type": "code",
   "execution_count": 12,
   "metadata": {},
   "outputs": [
    {
     "name": "stdout",
     "output_type": "stream",
     "text": [
      "(11184, 720)\n",
      "(11184, 3)\n",
      "(20, 720)\n",
      "(20, 3)\n"
     ]
    }
   ],
   "source": [
    "matches_train = matches[10000:25000]\n",
    "xs = []\n",
    "ys = []\n",
    "for i, match in enumerate(matches_train):\n",
    "    try:\n",
    "        (x, y) = match_vector(match)\n",
    "        xs.append(x)\n",
    "        ys.append(y)\n",
    "    except ValueError:\n",
    "        pass\n",
    "    \n",
    "x_train = np.array(xs[:-20])\n",
    "y_train = np.array(ys[:-20])\n",
    "x_test = np.array(xs[-20:])\n",
    "y_test = np.array(ys[-20:])\n",
    "\n",
    "print(x_train.shape)\n",
    "print(y_train.shape)\n",
    "print(x_test.shape)\n",
    "print(y_test.shape)"
   ]
  },
  {
   "cell_type": "code",
   "execution_count": 18,
   "metadata": {},
   "outputs": [
    {
     "data": {
      "text/plain": [
       "StandardScaler(copy=True, with_mean=True, with_std=True)"
      ]
     },
     "execution_count": 18,
     "metadata": {},
     "output_type": "execute_result"
    }
   ],
   "source": [
    "from sklearn.preprocessing import StandardScaler\n",
    "\n",
    "ss = StandardScaler()\n",
    "ss.fit(x_train)"
   ]
  },
  {
   "cell_type": "code",
   "execution_count": 19,
   "metadata": {},
   "outputs": [],
   "source": [
    "x_train_std = ss.transform(x_train)\n",
    "x_test_std = ss.transform(x_test)"
   ]
  },
  {
   "cell_type": "code",
   "execution_count": 20,
   "metadata": {},
   "outputs": [
    {
     "name": "stdout",
     "output_type": "stream",
     "text": [
      "_________________________________________________________________\n",
      "Layer (type)                 Output Shape              Param #   \n",
      "=================================================================\n",
      "dense_3 (Dense)              (None, 32)                23072     \n",
      "_________________________________________________________________\n",
      "activation_3 (Activation)    (None, 32)                0         \n",
      "_________________________________________________________________\n",
      "dense_4 (Dense)              (None, 3)                 99        \n",
      "_________________________________________________________________\n",
      "activation_4 (Activation)    (None, 3)                 0         \n",
      "=================================================================\n",
      "Total params: 23,171\n",
      "Trainable params: 23,171\n",
      "Non-trainable params: 0\n",
      "_________________________________________________________________\n"
     ]
    }
   ],
   "source": [
    "model = Sequential()\n",
    "model.add(Dense(32, input_shape=(720,)))\n",
    "model.add(Activation(\"relu\"))\n",
    "model.add(Dense(3))\n",
    "model.add(Activation(\"softmax\"))\n",
    "\n",
    "model.compile(loss = \"categorical_crossentropy\", optimizer = Adam(lr = 1e-3), metrics = [\"accuracy\"])\n",
    "model.summary()"
   ]
  },
  {
   "cell_type": "code",
   "execution_count": 21,
   "metadata": {},
   "outputs": [
    {
     "name": "stdout",
     "output_type": "stream",
     "text": [
      "Train on 10065 samples, validate on 1119 samples\n",
      "Epoch 1/10\n",
      "10065/10065 [==============================] - 1s 106us/step - loss: 1.1193 - acc: 0.4682 - val_loss: 1.0443 - val_acc: 0.4978\n",
      "Epoch 2/10\n",
      "10065/10065 [==============================] - 1s 68us/step - loss: 0.9644 - acc: 0.5358 - val_loss: 1.0413 - val_acc: 0.4879\n",
      "Epoch 3/10\n",
      "10065/10065 [==============================] - 1s 68us/step - loss: 0.9121 - acc: 0.5743 - val_loss: 1.0515 - val_acc: 0.4763\n",
      "Epoch 4/10\n",
      "10065/10065 [==============================] - 1s 67us/step - loss: 0.8742 - acc: 0.5936 - val_loss: 1.0738 - val_acc: 0.4879\n",
      "Epoch 5/10\n",
      "10065/10065 [==============================] - 1s 64us/step - loss: 0.8394 - acc: 0.6172 - val_loss: 1.1383 - val_acc: 0.4710\n",
      "Epoch 6/10\n",
      "10065/10065 [==============================] - 1s 69us/step - loss: 0.8045 - acc: 0.6375 - val_loss: 1.1264 - val_acc: 0.4638\n",
      "Epoch 7/10\n",
      "10065/10065 [==============================] - 1s 72us/step - loss: 0.7697 - acc: 0.6586 - val_loss: 1.1664 - val_acc: 0.4576\n",
      "Epoch 8/10\n",
      "10065/10065 [==============================] - 1s 57us/step - loss: 0.7295 - acc: 0.6854 - val_loss: 1.2254 - val_acc: 0.4549\n",
      "Epoch 9/10\n",
      "10065/10065 [==============================] - 1s 68us/step - loss: 0.6949 - acc: 0.7059 - val_loss: 1.2475 - val_acc: 0.4763\n",
      "Epoch 10/10\n",
      "10065/10065 [==============================] - 1s 64us/step - loss: 0.6568 - acc: 0.7233 - val_loss: 1.3545 - val_acc: 0.4736\n"
     ]
    }
   ],
   "source": [
    "history = model.fit(x_train_std, y_train, batch_size=50, epochs=10, validation_split = 0.1)"
   ]
  },
  {
   "cell_type": "code",
   "execution_count": 22,
   "metadata": {},
   "outputs": [
    {
     "name": "stdout",
     "output_type": "stream",
     "text": [
      "[[0 1 0]\n",
      " [1 0 0]\n",
      " [1 0 0]\n",
      " [0 1 0]\n",
      " [1 0 0]\n",
      " [1 0 0]\n",
      " [1 0 0]\n",
      " [0 1 0]\n",
      " [1 0 0]\n",
      " [0 0 1]\n",
      " [0 0 1]\n",
      " [1 0 0]\n",
      " [1 0 0]\n",
      " [1 0 0]\n",
      " [1 0 0]\n",
      " [0 0 1]\n",
      " [0 1 0]\n",
      " [1 0 0]\n",
      " [1 0 0]\n",
      " [0 0 1]]\n",
      "[[0.0000000e+00 1.0000000e+00 1.3044409e-36]\n",
      " [0.0000000e+00 1.0000000e+00 0.0000000e+00]\n",
      " [3.6182075e-18 1.0000000e+00 9.2212822e-33]\n",
      " [1.7147974e-38 1.0000000e+00 0.0000000e+00]\n",
      " [3.4212420e-37 1.0000000e+00 3.4924153e-18]\n",
      " [5.1278698e-28 1.0000000e+00 4.8993917e-23]\n",
      " [0.0000000e+00 1.0000000e+00 4.6731232e-31]\n",
      " [4.7632807e-37 7.1321469e-06 9.9999285e-01]\n",
      " [0.0000000e+00 1.0000000e+00 2.5260076e-29]\n",
      " [2.8897485e-36 1.0000000e+00 3.4390935e-35]\n",
      " [0.0000000e+00 1.0000000e+00 0.0000000e+00]\n",
      " [6.0034620e-21 1.0000000e+00 1.2633368e-16]\n",
      " [0.0000000e+00 1.0000000e+00 7.2821755e-19]\n",
      " [1.1621419e-15 1.0000000e+00 7.5787879e-21]\n",
      " [2.1217663e-11 1.0000000e+00 1.2562794e-20]\n",
      " [5.6753185e-36 1.0000000e+00 4.6641744e-12]\n",
      " [0.0000000e+00 1.0000000e+00 7.8207024e-22]\n",
      " [1.4588803e-32 1.0000000e+00 0.0000000e+00]\n",
      " [1.3396287e-38 1.0000000e+00 6.4375105e-20]\n",
      " [0.0000000e+00 1.0000000e+00 0.0000000e+00]]\n"
     ]
    }
   ],
   "source": [
    "y_pred = model.predict(x_test)\n",
    "print(y_test)\n",
    "print(y_pred)"
   ]
  }
 ],
 "metadata": {
  "kernelspec": {
   "display_name": "Python 3",
   "language": "python",
   "name": "python3"
  },
  "language_info": {
   "codemirror_mode": {
    "name": "ipython",
    "version": 3
   },
   "file_extension": ".py",
   "mimetype": "text/x-python",
   "name": "python",
   "nbconvert_exporter": "python",
   "pygments_lexer": "ipython3",
   "version": "3.6.5"
  }
 },
 "nbformat": 4,
 "nbformat_minor": 4
}
