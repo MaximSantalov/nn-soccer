{
 "cells": [
  {
   "cell_type": "markdown",
   "metadata": {},
   "source": [
    "This notebook started as a copy of the base_network notebook.\n",
    "Here we add, to each match and for both teams, attributes like\n",
    "\"home win percentage of this team over the last X matches\".\n",
    "\n",
    "Let's try to describe the meaningful data of each match as a vector."
   ]
  },
  {
   "cell_type": "code",
   "execution_count": 1,
   "metadata": {},
   "outputs": [],
   "source": [
    "from fetcher import Fetcher\n",
    "import numpy as np\n",
    "\n",
    "fetch = Fetcher(\"data/database.sqlite\")"
   ]
  },
  {
   "cell_type": "code",
   "execution_count": 2,
   "metadata": {},
   "outputs": [
    {
     "data": {
      "text/plain": [
       "dict_keys(['id', 'player_fifa_api_id', 'player_api_id', 'date', 'overall_rating', 'potential', 'preferred_foot', 'attacking_work_rate', 'defensive_work_rate', 'crossing', 'finishing', 'heading_accuracy', 'short_passing', 'volleys', 'dribbling', 'curve', 'free_kick_accuracy', 'long_passing', 'ball_control', 'acceleration', 'sprint_speed', 'agility', 'reactions', 'balance', 'shot_power', 'jumping', 'stamina', 'strength', 'long_shots', 'aggression', 'interceptions', 'positioning', 'vision', 'penalties', 'marking', 'standing_tackle', 'sliding_tackle', 'gk_diving', 'gk_handling', 'gk_kicking', 'gk_positioning', 'gk_reflexes'])"
      ]
     },
     "execution_count": 2,
     "metadata": {},
     "output_type": "execute_result"
    }
   ],
   "source": [
    "player, attrs = fetch.get_player_data(505942)\n",
    "attrs[0].keys()"
   ]
  },
  {
   "cell_type": "code",
   "execution_count": 3,
   "metadata": {},
   "outputs": [],
   "source": [
    "import datetime\n",
    "\n",
    "# is date a before date b?\n",
    "def is_before (a, b):\n",
    "    a_dt = datetime.datetime.strptime(a, '%Y-%m-%d %H:%M:%S')\n",
    "    b_dt = datetime.datetime.strptime(b, '%Y-%m-%d %H:%M:%S')\n",
    "    return a_dt <= b_dt"
   ]
  },
  {
   "cell_type": "code",
   "execution_count": 4,
   "metadata": {},
   "outputs": [],
   "source": [
    "seen_players = {}\n",
    "\n",
    "# Summarize the player (at a given point in time)\n",
    "# to a single vector\n",
    "def player_vector (api_id, match_date):\n",
    "    player_cols = ['height', 'weight']\n",
    "    # Manually removed some that look suspicious or are non-numerical\n",
    "    attr_cols = ['overall_rating', 'potential',\n",
    "             'crossing', 'finishing', 'heading_accuracy', 'short_passing', 'volleys', \n",
    "             'dribbling', 'curve', 'free_kick_accuracy', 'long_passing', 'ball_control', \n",
    "             'acceleration', 'sprint_speed', 'agility', 'reactions', 'balance', 'shot_power', \n",
    "             'jumping', 'stamina', 'strength', 'long_shots', 'aggression', 'interceptions', 'positioning', \n",
    "             'vision', 'penalties', 'marking', 'standing_tackle', 'sliding_tackle']\n",
    "    \n",
    "    if not api_id in seen_players:\n",
    "        seen_players[api_id] = fetch.get_player_data(api_id)\n",
    "    player, attrs = seen_players[api_id]\n",
    "    \n",
    "    if len(attrs) == 0:\n",
    "        raise ValueError\n",
    "    \n",
    "    # let's find the most recent dict before match_date\n",
    "    cur_attrs = None\n",
    "    for d in attrs:\n",
    "        if is_before(d[\"date\"], match_date):\n",
    "            if cur_attrs == None or is_before(cur_attrs[\"date\"], d[\"date\"]):\n",
    "                cur_attrs = d\n",
    "                \n",
    "    # something is better than nothing\n",
    "    if cur_attrs == None:\n",
    "        cur_attrs = attrs[0]\n",
    "                \n",
    "    return [(player[col] if (col in player and player[col] != None) else 0) for col in player_cols] + \\\n",
    "           [(cur_attrs[col] if (col in cur_attrs and cur_attrs[col] != None) else 0) for col in attr_cols]"
   ]
  },
  {
   "cell_type": "code",
   "execution_count": 5,
   "metadata": {},
   "outputs": [
    {
     "data": {
      "text/plain": [
       "[175.26,\n",
       " 152,\n",
       " 56,\n",
       " 67,\n",
       " 55,\n",
       " 47,\n",
       " 35,\n",
       " 62,\n",
       " 53,\n",
       " 60,\n",
       " 53,\n",
       " 53,\n",
       " 57,\n",
       " 62,\n",
       " 72,\n",
       " 70,\n",
       " 75,\n",
       " 57,\n",
       " 52,\n",
       " 55,\n",
       " 57,\n",
       " 59,\n",
       " 47,\n",
       " 54,\n",
       " 37,\n",
       " 44,\n",
       " 47,\n",
       " 57,\n",
       " 56,\n",
       " 26,\n",
       " 30,\n",
       " 27]"
      ]
     },
     "execution_count": 5,
     "metadata": {},
     "output_type": "execute_result"
    }
   ],
   "source": [
    "player_vector(148336, \"2009-04-10 00:00:00\")"
   ]
  },
  {
   "cell_type": "code",
   "execution_count": 6,
   "metadata": {},
   "outputs": [
    {
     "name": "stdout",
     "output_type": "stream",
     "text": [
      "dict_keys(['id', 'team_api_id', 'team_fifa_api_id', 'team_long_name', 'team_short_name'])\n",
      "dict_keys(['id', 'team_fifa_api_id', 'team_api_id', 'date', 'buildUpPlaySpeed', 'buildUpPlaySpeedClass', 'buildUpPlayDribbling', 'buildUpPlayDribblingClass', 'buildUpPlayPassing', 'buildUpPlayPassingClass', 'buildUpPlayPositioningClass', 'chanceCreationPassing', 'chanceCreationPassingClass', 'chanceCreationCrossing', 'chanceCreationCrossingClass', 'chanceCreationShooting', 'chanceCreationShootingClass', 'chanceCreationPositioningClass', 'defencePressure', 'defencePressureClass', 'defenceAggression', 'defenceAggressionClass', 'defenceTeamWidth', 'defenceTeamWidthClass', 'defenceDefenderLineClass'])\n"
     ]
    }
   ],
   "source": [
    "team, attrs = fetch.get_team_data(9987)\n",
    "print(team.keys())\n",
    "print(attrs[0].keys())"
   ]
  },
  {
   "cell_type": "code",
   "execution_count": 7,
   "metadata": {},
   "outputs": [],
   "source": [
    "seen_teams = {}\n",
    "\n",
    "# Summarize the team (at a given point in time)\n",
    "# to a single vector\n",
    "def team_vector (api_id, match_date):\n",
    "    team_cols = []\n",
    "    # Again, removed some that are irrelevant, non-numerical or have many missing values\n",
    "    attr_cols = ['buildUpPlaySpeed', 'buildUpPlayPassing', 'chanceCreationPassing',\n",
    "             'chanceCreationCrossing', 'chanceCreationShooting','defencePressure', \n",
    "             'defenceAggression', 'defenceTeamWidth']\n",
    "    \n",
    "    if not api_id in seen_teams:\n",
    "        seen_teams[api_id] = fetch.get_team_data(api_id)\n",
    "    team, attrs = seen_teams[api_id]\n",
    "    \n",
    "    if len(attrs) == 0:\n",
    "        raise ValueError\n",
    "    \n",
    "    cur_attrs = None\n",
    "    for d in attrs:\n",
    "        if is_before(d[\"date\"], match_date):\n",
    "            if cur_attrs == None or is_before(cur_attrs[\"date\"], d[\"date\"]):\n",
    "                cur_attrs = d\n",
    "                \n",
    "    if cur_attrs == None:\n",
    "        cur_attrs = attrs[0]\n",
    "        \n",
    "    return [(team[col] if col in team and team[col] != None else 0) for col in team_cols] + \\\n",
    "           [(cur_attrs[col] if col in cur_attrs and cur_attrs[col] != None else 0) for col in attr_cols]"
   ]
  },
  {
   "cell_type": "code",
   "execution_count": 8,
   "metadata": {},
   "outputs": [
    {
     "data": {
      "text/plain": [
       "[58, 38, 30, 69, 56, 36, 57, 70]"
      ]
     },
     "execution_count": 8,
     "metadata": {},
     "output_type": "execute_result"
    }
   ],
   "source": [
    "team_vector(9987, \"2050-01-23 01:23:45\")"
   ]
  },
  {
   "cell_type": "markdown",
   "metadata": {},
   "source": [
    "Now comes the part that is different from the previous notebooks. Let's preprocess the list of all matches and calculate for each match these extra values."
   ]
  },
  {
   "cell_type": "code",
   "execution_count": 9,
   "metadata": {},
   "outputs": [
    {
     "name": "stdout",
     "output_type": "stream",
     "text": [
      "[0.2, 0.6, 0.55, 0.6, 0.6, 0.5]\n",
      "[1, 1, 1, 0, 0, 1, 0, 0, 1, 1, 1, 1, 1, 1, 1, -1, 1, -1, 1, 1]\n"
     ]
    }
   ],
   "source": [
    "matches = fetch.get_all_matches()\n",
    "lookbacks = [5, 10, 20]\n",
    "\n",
    "# home_matches[api_id] should be a list consisting of numbers\n",
    "# 1, 0, -1: scores of the last matches in chronological orer\n",
    "home_matches = {}\n",
    "away_matches = {}\n",
    "\n",
    "# match_avgs[match_api_id] is a list of 2 * len(lookbacks)\n",
    "# containing the various averages\n",
    "match_avgs = {}\n",
    "\n",
    "for match_dict in matches:\n",
    "    home_team = match_dict[\"home_team_api_id\"]\n",
    "    away_team = match_dict[\"away_team_api_id\"]\n",
    "    \n",
    "    if home_team not in home_matches:\n",
    "        home_matches[home_team] = []\n",
    "    if away_team not in away_matches:\n",
    "        away_matches[away_team] = []\n",
    "    \n",
    "    cur_avgs = []\n",
    "    for lb in lookbacks:\n",
    "        if not home_matches[home_team]:\n",
    "            cur_avgs.append(0.5)\n",
    "        else:\n",
    "            cur_avgs.append(np.mean(home_matches[home_team][-lb:]))\n",
    "    for lb in lookbacks:\n",
    "        if not away_matches[away_team]:\n",
    "            cur_avgs.append(0.3)\n",
    "        else:\n",
    "            cur_avgs.append(np.mean(away_matches[away_team][-lb:]))\n",
    "    match_avgs[match_dict[\"match_api_id\"]] = cur_avgs\n",
    "    \n",
    "    home_goal = match_dict[\"home_team_goal\"]\n",
    "    away_goal = match_dict[\"away_team_goal\"]\n",
    "    if home_goal > away_goal:\n",
    "        winner = 1\n",
    "    elif home_goal == away_goal:\n",
    "        winner = 0\n",
    "    else:\n",
    "        winner = -1\n",
    "    \n",
    "    home_matches[home_team].append(winner)\n",
    "    away_matches[away_team].append(-winner)\n",
    "    \n",
    "print(match_avgs[1992095])\n",
    "print(home_matches[10192][-20:])"
   ]
  },
  {
   "cell_type": "markdown",
   "metadata": {},
   "source": [
    "We can add this new data to the end of the \"match vector\""
   ]
  },
  {
   "cell_type": "code",
   "execution_count": 10,
   "metadata": {},
   "outputs": [],
   "source": [
    "# Let's summarize \"things known before the match\" as a vector X\n",
    "# and \"the result\" as an one-hot coded vector \n",
    "def match_vector (match_dict):\n",
    "    team_list = [\"home_team_api_id\", \"away_team_api_id\"]\n",
    "    player_list = [\"home_player_1\", \"home_player_2\", \"home_player_3\", \"home_player_4\",\n",
    "               \"home_player_5\", \"home_player_6\", \"home_player_7\", \"home_player_8\",\n",
    "               \"home_player_9\", \"home_player_10\", \"home_player_11\",\n",
    "               \"away_player_1\", \"away_player_2\", \"away_player_3\", \"away_player_4\",\n",
    "               \"away_player_5\", \"away_player_6\", \"away_player_7\", \"away_player_8\",\n",
    "               \"away_player_9\", \"away_player_10\", \"away_player_11\"]\n",
    "    \n",
    "    home_goal = match_dict[\"home_team_goal\"]\n",
    "    away_goal = match_dict[\"away_team_goal\"]\n",
    "    if home_goal > away_goal:\n",
    "        y = np.array([1, 0, 0])\n",
    "    elif home_goal == away_goal:\n",
    "        y = np.array([0, 1, 0])\n",
    "    else:\n",
    "        y = np.array([0, 0, 1])\n",
    "    \n",
    "    ans = []\n",
    "    for team in team_list:\n",
    "        ans += team_vector(match_dict[team], match_dict[\"date\"])\n",
    "    for player in player_list:\n",
    "        ans += player_vector(match_dict[player], match_dict[\"date\"])\n",
    "    ans += match_avgs[match_dict[\"match_api_id\"]]\n",
    "    return (np.array(ans), y)"
   ]
  },
  {
   "cell_type": "code",
   "execution_count": 11,
   "metadata": {
    "scrolled": true
   },
   "outputs": [
    {
     "name": "stdout",
     "output_type": "stream",
     "text": [
      "1\n",
      "2\n",
      "2015-12-05 00:00:00\n",
      "243164\n",
      "(array([ 68.  ,  57.  ,  69.  ,  66.  ,  50.  ,  66.  ,  46.  ,  55.  ,\n",
      "        71.  ,  40.  ,  70.  ,  44.  ,  49.  ,  65.  ,  71.  ,  40.  ,\n",
      "       193.04, 196.  ,  81.  ,  81.  ,  14.  ,   8.  ,  15.  ,  32.  ,\n",
      "        12.  ,  13.  ,  12.  ,  13.  ,  31.  ,  20.  ,  42.  ,  44.  ,\n",
      "        44.  ,  79.  ,  47.  ,  22.  ,  73.  ,  43.  ,  76.  ,  11.  ,\n",
      "        38.  ,  22.  ,   7.  ,  37.  ,  23.  ,  10.  ,  13.  ,  14.  ,\n",
      "       172.72, 161.  ,  80.  ,  80.  ,  80.  ,  73.  ,  42.  ,  79.  ,\n",
      "        65.  ,  87.  ,  74.  ,  67.  ,  70.  ,  84.  ,  84.  ,  76.  ,\n",
      "        86.  ,  81.  ,  85.  ,  78.  ,  69.  ,  75.  ,  57.  ,  76.  ,\n",
      "        75.  ,  72.  ,  78.  ,  78.  ,  66.  ,  67.  ,  64.  ,  64.  ,\n",
      "       198.12, 196.  ,  84.  ,  84.  ,  45.  ,  57.  ,  93.  ,  74.  ,\n",
      "        60.  ,  60.  ,  52.  ,  76.  ,  70.  ,  69.  ,  67.  ,  77.  ,\n",
      "        57.  ,  83.  ,  42.  ,  92.  ,  46.  ,  62.  ,  84.  ,  82.  ,\n",
      "        73.  ,  93.  ,  53.  ,  59.  ,  60.  ,  84.  ,  87.  ,  85.  ,\n",
      "       193.04, 192.  ,  77.  ,  78.  ,  42.  ,  33.  ,  84.  ,  72.  ,\n",
      "        33.  ,  41.  ,  40.  ,  34.  ,  73.  ,  61.  ,  48.  ,  52.  ,\n",
      "        40.  ,  74.  ,  34.  ,  64.  ,  52.  ,  63.  ,  85.  ,  40.  ,\n",
      "        74.  ,  78.  ,  45.  ,  50.  ,  41.  ,  79.  ,  80.  ,  75.  ,\n",
      "       180.34, 170.  ,  83.  ,  87.  ,  92.  ,  59.  ,  75.  ,  81.  ,\n",
      "        66.  ,  78.  ,  82.  ,  84.  ,  78.  ,  80.  ,  74.  ,  76.  ,\n",
      "        75.  ,  85.  ,  73.  ,  78.  ,  75.  ,  78.  ,  74.  ,  73.  ,\n",
      "        79.  ,  84.  ,  68.  ,  75.  ,  82.  ,  85.  ,  84.  ,  86.  ,\n",
      "       182.88, 174.  ,  78.  ,  79.  ,  74.  ,  69.  ,  56.  ,  77.  ,\n",
      "        68.  ,  84.  ,  78.  ,  61.  ,  64.  ,  80.  ,  84.  ,  82.  ,\n",
      "        79.  ,  78.  ,  79.  ,  76.  ,  76.  ,  76.  ,  66.  ,  70.  ,\n",
      "        59.  ,  47.  ,  77.  ,  76.  ,  80.  ,  20.  ,  24.  ,  25.  ,\n",
      "       187.96, 170.  ,  78.  ,  80.  ,  52.  ,  49.  ,  78.  ,  76.  ,\n",
      "        49.  ,  67.  ,  42.  ,  53.  ,  75.  ,  73.  ,  66.  ,  73.  ,\n",
      "        54.  ,  77.  ,  58.  ,  78.  ,  76.  ,  79.  ,  80.  ,  66.  ,\n",
      "        80.  ,  83.  ,  63.  ,  65.  ,  50.  ,  79.  ,  82.  ,  78.  ,\n",
      "       182.88, 163.  ,  76.  ,  83.  ,  63.  ,  76.  ,  54.  ,  77.  ,\n",
      "        75.  ,  78.  ,  73.  ,  59.  ,  76.  ,  79.  ,  73.  ,  67.  ,\n",
      "        76.  ,  77.  ,  70.  ,  86.  ,  52.  ,  76.  ,  60.  ,  84.  ,\n",
      "        62.  ,  70.  ,  77.  ,  77.  ,  59.  ,  57.  ,  65.  ,  64.  ,\n",
      "       187.96, 165.  ,  80.  ,  85.  ,  78.  ,  75.  ,  65.  ,  83.  ,\n",
      "        79.  ,  86.  ,  78.  ,  72.  ,  74.  ,  84.  ,  78.  ,  77.  ,\n",
      "        83.  ,  81.  ,  75.  ,  81.  ,  76.  ,  69.  ,  63.  ,  85.  ,\n",
      "        48.  ,  36.  ,  77.  ,  77.  ,  62.  ,  25.  ,  35.  ,  26.  ,\n",
      "       182.88, 163.  ,  79.  ,  83.  ,  75.  ,  75.  ,  61.  ,  78.  ,\n",
      "        80.  ,  83.  ,  77.  ,  70.  ,  60.  ,  78.  ,  91.  ,  86.  ,\n",
      "        84.  ,  81.  ,  78.  ,  85.  ,  72.  ,  72.  ,  64.  ,  83.  ,\n",
      "        64.  ,  43.  ,  78.  ,  75.  ,  81.  ,  23.  ,  32.  ,  39.  ,\n",
      "       180.34, 168.  ,  81.  ,  82.  ,  81.  ,  80.  ,  54.  ,  83.  ,\n",
      "        79.  ,  82.  ,  76.  ,  69.  ,  69.  ,  83.  ,  74.  ,  76.  ,\n",
      "        77.  ,  83.  ,  76.  ,  79.  ,  69.  ,  83.  ,  72.  ,  78.  ,\n",
      "        65.  ,  39.  ,  83.  ,  80.  ,  84.  ,  35.  ,  38.  ,  34.  ,\n",
      "       187.96, 187.  ,  80.  ,  84.  ,  15.  ,   8.  ,  17.  ,  37.  ,\n",
      "        13.  ,  16.  ,  13.  ,  12.  ,  24.  ,  23.  ,  49.  ,  53.  ,\n",
      "        51.  ,  79.  ,  52.  ,  22.  ,  74.  ,  36.  ,  74.  ,  14.  ,\n",
      "        35.  ,  18.  ,  10.  ,  47.  ,  20.  ,  14.  ,  13.  ,  16.  ,\n",
      "       182.88, 174.  ,  80.  ,  80.  ,  81.  ,  61.  ,  74.  ,  75.  ,\n",
      "        66.  ,  74.  ,  73.  ,  47.  ,  68.  ,  76.  ,  75.  ,  82.  ,\n",
      "        67.  ,  80.  ,  67.  ,  76.  ,  75.  ,  79.  ,  79.  ,  68.  ,\n",
      "        83.  ,  81.  ,  71.  ,  66.  ,  65.  ,  79.  ,  84.  ,  84.  ,\n",
      "       190.5 , 183.  ,  79.  ,  80.  ,  47.  ,  29.  ,  86.  ,  50.  ,\n",
      "        32.  ,  39.  ,  33.  ,  58.  ,  69.  ,  41.  ,  67.  ,  74.  ,\n",
      "        62.  ,  76.  ,  60.  ,  81.  ,  74.  ,  69.  ,  82.  ,  47.  ,\n",
      "        82.  ,  70.  ,  48.  ,  44.  ,  43.  ,  85.  ,  87.  ,  85.  ,\n",
      "       185.42, 176.  ,  80.  ,  81.  ,  52.  ,  44.  ,  78.  ,  77.  ,\n",
      "        54.  ,  58.  ,  33.  ,  40.  ,  73.  ,  71.  ,  64.  ,  66.  ,\n",
      "        62.  ,  80.  ,  62.  ,  73.  ,  77.  ,  91.  ,  77.  ,  62.  ,\n",
      "        87.  ,  86.  ,  49.  ,  66.  ,  52.  ,  81.  ,  86.  ,  87.  ,\n",
      "       180.34, 159.  ,  77.  ,  78.  ,  79.  ,  37.  ,  71.  ,  73.  ,\n",
      "        47.  ,  68.  ,  74.  ,  70.  ,  66.  ,  70.  ,  74.  ,  81.  ,\n",
      "        68.  ,  76.  ,  65.  ,  74.  ,  73.  ,  83.  ,  74.  ,  60.  ,\n",
      "        81.  ,  73.  ,  54.  ,  52.  ,  46.  ,  78.  ,  81.  ,  82.  ,\n",
      "       190.5 , 194.  ,  75.  ,  81.  ,  70.  ,  51.  ,  82.  ,  76.  ,\n",
      "        54.  ,  63.  ,  58.  ,  52.  ,  74.  ,  72.  ,  58.  ,  66.  ,\n",
      "        60.  ,  78.  ,  54.  ,  78.  ,  67.  ,  73.  ,  81.  ,  56.  ,\n",
      "        68.  ,  81.  ,  57.  ,  66.  ,  66.  ,  78.  ,  80.  ,  77.  ,\n",
      "       180.34, 176.  ,  83.  ,  86.  ,  74.  ,  66.  ,  49.  ,  88.  ,\n",
      "        75.  ,  86.  ,  81.  ,  73.  ,  82.  ,  85.  ,  77.  ,  74.  ,\n",
      "        84.  ,  86.  ,  83.  ,  77.  ,  62.  ,  75.  ,  74.  ,  74.  ,\n",
      "        68.  ,  78.  ,  77.  ,  85.  ,  76.  ,  57.  ,  63.  ,  64.  ,\n",
      "       177.8 , 165.  ,  81.  ,  83.  ,  73.  ,  68.  ,  53.  ,  78.  ,\n",
      "        84.  ,  87.  ,  83.  ,  64.  ,  75.  ,  86.  ,  87.  ,  84.  ,\n",
      "        90.  ,  83.  ,  81.  ,  87.  ,  72.  ,  82.  ,  66.  ,  74.  ,\n",
      "        68.  ,  68.  ,  83.  ,  83.  ,  72.  ,  49.  ,  53.  ,  55.  ,\n",
      "       172.72, 163.  ,  81.  ,  81.  ,  82.  ,  68.  ,  60.  ,  84.  ,\n",
      "        62.  ,  81.  ,  79.  ,  75.  ,  80.  ,  82.  ,  76.  ,  72.  ,\n",
      "        82.  ,  83.  ,  83.  ,  76.  ,  77.  ,  81.  ,  64.  ,  75.  ,\n",
      "        63.  ,  83.  ,  78.  ,  81.  ,  55.  ,  76.  ,  71.  ,  70.  ,\n",
      "       180.34, 165.  ,  86.  ,  88.  ,  85.  ,  83.  ,  51.  ,  87.  ,\n",
      "        82.  ,  87.  ,  90.  ,  84.  ,  79.  ,  85.  ,  89.  ,  91.  ,\n",
      "        89.  ,  87.  ,  82.  ,  84.  ,  70.  ,  73.  ,  65.  ,  86.  ,\n",
      "        47.  ,  50.  ,  87.  ,  84.  ,  84.  ,  30.  ,  36.  ,  45.  ,\n",
      "       187.96, 176.  ,  84.  ,  85.  ,  81.  ,  88.  ,  77.  ,  74.  ,\n",
      "        84.  ,  81.  ,  78.  ,  74.  ,  64.  ,  81.  ,  95.  ,  96.  ,\n",
      "        80.  ,  84.  ,  66.  ,  78.  ,  76.  ,  79.  ,  77.  ,  77.  ,\n",
      "        45.  ,  48.  ,  86.  ,  77.  ,  84.  ,  28.  ,  25.  ,  36.  ,\n",
      "         1.  ,   0.8 ,   0.8 ,  -0.6 ,  -0.4 ,  -0.3 ]), array([0, 0, 1]))\n",
      "(726,)\n"
     ]
    }
   ],
   "source": [
    "cur_match = matches[10006]\n",
    "print(cur_match[\"home_team_goal\"])\n",
    "print(cur_match[\"away_team_goal\"])\n",
    "print(cur_match[\"date\"])\n",
    "print(cur_match[\"home_player_9\"])\n",
    "# print(player_vector(cur_match[\"home_player_9\"], cur_match[\"date\"]))\n",
    "vec = match_vector(cur_match)\n",
    "print(vec)\n",
    "print(vec[0].shape)"
   ]
  },
  {
   "cell_type": "markdown",
   "metadata": {},
   "source": [
    "We now can turn each match into a vector of data known right before the match, and the outcome. Let's build a neural network that learns to predict the outcome."
   ]
  },
  {
   "cell_type": "code",
   "execution_count": 12,
   "metadata": {},
   "outputs": [
    {
     "name": "stderr",
     "output_type": "stream",
     "text": [
      "Using TensorFlow backend.\n",
      "/home/tahvend/anaconda3/envs/neural_networks_env/lib/python3.6/site-packages/tensorflow/python/framework/dtypes.py:523: FutureWarning: Passing (type, 1) or '1type' as a synonym of type is deprecated; in a future version of numpy, it will be understood as (type, (1,)) / '(1,)type'.\n",
      "  _np_qint8 = np.dtype([(\"qint8\", np.int8, 1)])\n",
      "/home/tahvend/anaconda3/envs/neural_networks_env/lib/python3.6/site-packages/tensorflow/python/framework/dtypes.py:524: FutureWarning: Passing (type, 1) or '1type' as a synonym of type is deprecated; in a future version of numpy, it will be understood as (type, (1,)) / '(1,)type'.\n",
      "  _np_quint8 = np.dtype([(\"quint8\", np.uint8, 1)])\n",
      "/home/tahvend/anaconda3/envs/neural_networks_env/lib/python3.6/site-packages/tensorflow/python/framework/dtypes.py:525: FutureWarning: Passing (type, 1) or '1type' as a synonym of type is deprecated; in a future version of numpy, it will be understood as (type, (1,)) / '(1,)type'.\n",
      "  _np_qint16 = np.dtype([(\"qint16\", np.int16, 1)])\n",
      "/home/tahvend/anaconda3/envs/neural_networks_env/lib/python3.6/site-packages/tensorflow/python/framework/dtypes.py:526: FutureWarning: Passing (type, 1) or '1type' as a synonym of type is deprecated; in a future version of numpy, it will be understood as (type, (1,)) / '(1,)type'.\n",
      "  _np_quint16 = np.dtype([(\"quint16\", np.uint16, 1)])\n",
      "/home/tahvend/anaconda3/envs/neural_networks_env/lib/python3.6/site-packages/tensorflow/python/framework/dtypes.py:527: FutureWarning: Passing (type, 1) or '1type' as a synonym of type is deprecated; in a future version of numpy, it will be understood as (type, (1,)) / '(1,)type'.\n",
      "  _np_qint32 = np.dtype([(\"qint32\", np.int32, 1)])\n",
      "/home/tahvend/anaconda3/envs/neural_networks_env/lib/python3.6/site-packages/tensorflow/python/framework/dtypes.py:532: FutureWarning: Passing (type, 1) or '1type' as a synonym of type is deprecated; in a future version of numpy, it will be understood as (type, (1,)) / '(1,)type'.\n",
      "  np_resource = np.dtype([(\"resource\", np.ubyte, 1)])\n"
     ]
    }
   ],
   "source": [
    "import keras\n",
    "\n",
    "from keras.models import Sequential\n",
    "from keras.layers import Input, Activation, Dense\n",
    "from keras.optimizers import Adam"
   ]
  },
  {
   "cell_type": "code",
   "execution_count": 14,
   "metadata": {
    "scrolled": true
   },
   "outputs": [
    {
     "name": "stdout",
     "output_type": "stream",
     "text": [
      "0\n",
      "100\n",
      "200\n",
      "300\n",
      "400\n",
      "500\n",
      "600\n",
      "700\n",
      "800\n",
      "900\n",
      "1000\n",
      "1100\n",
      "1200\n",
      "1300\n",
      "1400\n",
      "1500\n",
      "1600\n",
      "1700\n",
      "1800\n",
      "1900\n",
      "2000\n",
      "2100\n",
      "2200\n",
      "2300\n",
      "2400\n",
      "2500\n",
      "2600\n",
      "2700\n",
      "2800\n",
      "2900\n",
      "3000\n",
      "3100\n",
      "3200\n",
      "3300\n",
      "3400\n",
      "3500\n",
      "3600\n",
      "3700\n",
      "3800\n",
      "3900\n",
      "4000\n",
      "4100\n",
      "4200\n",
      "4300\n",
      "4400\n",
      "4500\n",
      "4600\n",
      "4700\n",
      "4800\n",
      "4900\n",
      "5000\n",
      "5100\n",
      "5200\n",
      "5300\n",
      "5400\n",
      "5500\n",
      "5600\n",
      "5700\n",
      "5800\n",
      "5900\n",
      "6000\n",
      "6100\n",
      "6200\n",
      "6300\n",
      "6400\n",
      "6500\n",
      "6600\n",
      "6700\n",
      "6800\n",
      "6900\n",
      "7000\n",
      "7100\n",
      "7200\n",
      "7300\n",
      "7400\n",
      "7500\n",
      "7600\n",
      "7700\n",
      "7800\n",
      "7900\n",
      "8000\n",
      "8100\n",
      "8200\n",
      "8300\n",
      "8400\n",
      "8500\n",
      "8600\n",
      "8700\n",
      "8800\n",
      "8900\n",
      "9000\n",
      "9100\n",
      "9200\n",
      "9300\n",
      "9400\n",
      "9500\n",
      "9600\n",
      "9700\n",
      "9800\n",
      "9900\n",
      "10000\n",
      "10100\n",
      "10200\n",
      "10300\n",
      "10400\n",
      "10500\n",
      "10600\n",
      "10700\n",
      "10800\n",
      "10900\n",
      "11000\n",
      "11100\n",
      "11200\n",
      "11300\n",
      "11400\n",
      "11500\n",
      "11600\n",
      "11700\n",
      "11800\n",
      "11900\n",
      "12000\n",
      "12100\n",
      "12200\n",
      "12300\n",
      "12400\n",
      "12500\n",
      "12600\n",
      "12700\n",
      "12800\n",
      "12900\n",
      "13000\n",
      "13100\n",
      "13200\n",
      "13300\n",
      "13400\n",
      "13500\n",
      "13600\n",
      "13700\n",
      "13800\n",
      "13900\n",
      "14000\n",
      "14100\n",
      "14200\n",
      "14300\n",
      "14400\n",
      "14500\n",
      "14600\n",
      "14700\n",
      "14800\n",
      "14900\n",
      "(9204, 726)\n",
      "(9204, 3)\n",
      "(2000, 726)\n",
      "(2000, 3)\n"
     ]
    }
   ],
   "source": [
    "matches_train = matches[10000:25000]\n",
    "xs = []\n",
    "ys = []\n",
    "for i, match in enumerate(matches_train):\n",
    "    if i % 100 == 0:\n",
    "        print(i)\n",
    "        \n",
    "    try:\n",
    "        (x, y) = match_vector(match)\n",
    "        xs.append(x)\n",
    "        ys.append(y)\n",
    "    except ValueError:\n",
    "        pass\n",
    "    \n",
    "x_train = np.array(xs[:-2000])\n",
    "y_train = np.array(ys[:-2000])\n",
    "x_test = np.array(xs[-2000:])\n",
    "y_test = np.array(ys[-2000:])\n",
    "\n",
    "print(x_train.shape)\n",
    "print(y_train.shape)\n",
    "print(x_test.shape)\n",
    "print(y_test.shape)"
   ]
  },
  {
   "cell_type": "code",
   "execution_count": 15,
   "metadata": {},
   "outputs": [
    {
     "data": {
      "text/plain": [
       "StandardScaler(copy=True, with_mean=True, with_std=True)"
      ]
     },
     "execution_count": 15,
     "metadata": {},
     "output_type": "execute_result"
    }
   ],
   "source": [
    "from sklearn.preprocessing import StandardScaler\n",
    "\n",
    "ss = StandardScaler()\n",
    "ss.fit(x_train)"
   ]
  },
  {
   "cell_type": "code",
   "execution_count": 16,
   "metadata": {},
   "outputs": [],
   "source": [
    "x_train_std = ss.transform(x_train)\n",
    "x_test_std = ss.transform(x_test)"
   ]
  },
  {
   "cell_type": "code",
   "execution_count": 39,
   "metadata": {},
   "outputs": [
    {
     "name": "stdout",
     "output_type": "stream",
     "text": [
      "_________________________________________________________________\n",
      "Layer (type)                 Output Shape              Param #   \n",
      "=================================================================\n",
      "dense_11 (Dense)             (None, 128)               93056     \n",
      "_________________________________________________________________\n",
      "activation_11 (Activation)   (None, 128)               0         \n",
      "_________________________________________________________________\n",
      "dense_12 (Dense)             (None, 3)                 387       \n",
      "_________________________________________________________________\n",
      "activation_12 (Activation)   (None, 3)                 0         \n",
      "=================================================================\n",
      "Total params: 93,443\n",
      "Trainable params: 93,443\n",
      "Non-trainable params: 0\n",
      "_________________________________________________________________\n"
     ]
    }
   ],
   "source": [
    "model = Sequential()\n",
    "model.add(Dense(128, input_shape=(726,)))\n",
    "model.add(Activation(\"relu\"))\n",
    "model.add(Dense(3))\n",
    "model.add(Activation(\"softmax\"))\n",
    "\n",
    "model.compile(loss = \"categorical_crossentropy\", optimizer = Adam(lr = 1e-5), metrics = [\"accuracy\"])\n",
    "model.summary()"
   ]
  },
  {
   "cell_type": "code",
   "execution_count": 40,
   "metadata": {},
   "outputs": [
    {
     "name": "stdout",
     "output_type": "stream",
     "text": [
      "Train on 8283 samples, validate on 921 samples\n",
      "Epoch 1/40\n",
      "8283/8283 [==============================] - 2s 191us/step - loss: 1.3131 - acc: 0.3697 - val_loss: 1.1510 - val_acc: 0.4636\n",
      "Epoch 2/40\n",
      "8283/8283 [==============================] - 0s 49us/step - loss: 1.2390 - acc: 0.4017 - val_loss: 1.1317 - val_acc: 0.4810\n",
      "Epoch 3/40\n",
      "8283/8283 [==============================] - 0s 49us/step - loss: 1.1985 - acc: 0.4285 - val_loss: 1.1219 - val_acc: 0.4929\n",
      "Epoch 4/40\n",
      "8283/8283 [==============================] - 0s 45us/step - loss: 1.1723 - acc: 0.4440 - val_loss: 1.1168 - val_acc: 0.4929\n",
      "Epoch 5/40\n",
      "8283/8283 [==============================] - 1s 64us/step - loss: 1.1536 - acc: 0.4567 - val_loss: 1.1136 - val_acc: 0.4908\n",
      "Epoch 6/40\n",
      "8283/8283 [==============================] - 0s 48us/step - loss: 1.1390 - acc: 0.4658 - val_loss: 1.1109 - val_acc: 0.4919\n",
      "Epoch 7/40\n",
      "8283/8283 [==============================] - 0s 45us/step - loss: 1.1267 - acc: 0.4728 - val_loss: 1.1089 - val_acc: 0.4929\n",
      "Epoch 8/40\n",
      "8283/8283 [==============================] - 1s 68us/step - loss: 1.1158 - acc: 0.4759 - val_loss: 1.1062 - val_acc: 0.5005\n",
      "Epoch 9/40\n",
      "8283/8283 [==============================] - 1s 66us/step - loss: 1.1063 - acc: 0.4834 - val_loss: 1.1047 - val_acc: 0.4984\n",
      "Epoch 10/40\n",
      "8283/8283 [==============================] - 0s 51us/step - loss: 1.0974 - acc: 0.4874 - val_loss: 1.1025 - val_acc: 0.5016\n",
      "Epoch 11/40\n",
      "8283/8283 [==============================] - 0s 50us/step - loss: 1.0890 - acc: 0.4905 - val_loss: 1.1005 - val_acc: 0.4973\n",
      "Epoch 12/40\n",
      "8283/8283 [==============================] - 0s 48us/step - loss: 1.0814 - acc: 0.4950 - val_loss: 1.0990 - val_acc: 0.4929\n",
      "Epoch 13/40\n",
      "8283/8283 [==============================] - 0s 48us/step - loss: 1.0743 - acc: 0.4958 - val_loss: 1.0968 - val_acc: 0.4908\n",
      "Epoch 14/40\n",
      "8283/8283 [==============================] - 1s 64us/step - loss: 1.0674 - acc: 0.4974 - val_loss: 1.0952 - val_acc: 0.4897\n",
      "Epoch 15/40\n",
      "8283/8283 [==============================] - 0s 50us/step - loss: 1.0609 - acc: 0.4997 - val_loss: 1.0934 - val_acc: 0.4908\n",
      "Epoch 16/40\n",
      "8283/8283 [==============================] - 0s 58us/step - loss: 1.0548 - acc: 0.5034 - val_loss: 1.0920 - val_acc: 0.4919\n",
      "Epoch 17/40\n",
      "8283/8283 [==============================] - 0s 57us/step - loss: 1.0489 - acc: 0.5044 - val_loss: 1.0910 - val_acc: 0.4940\n",
      "Epoch 18/40\n",
      "8283/8283 [==============================] - 0s 50us/step - loss: 1.0433 - acc: 0.5073 - val_loss: 1.0894 - val_acc: 0.4984\n",
      "Epoch 19/40\n",
      "8283/8283 [==============================] - 0s 48us/step - loss: 1.0381 - acc: 0.5089 - val_loss: 1.0877 - val_acc: 0.4995\n",
      "Epoch 20/40\n",
      "8283/8283 [==============================] - 0s 50us/step - loss: 1.0328 - acc: 0.5125 - val_loss: 1.0866 - val_acc: 0.4973\n",
      "Epoch 21/40\n",
      "8283/8283 [==============================] - 1s 63us/step - loss: 1.0279 - acc: 0.5152 - val_loss: 1.0854 - val_acc: 0.4962\n",
      "Epoch 22/40\n",
      "8283/8283 [==============================] - 0s 51us/step - loss: 1.0231 - acc: 0.5194 - val_loss: 1.0844 - val_acc: 0.4973\n",
      "Epoch 23/40\n",
      "8283/8283 [==============================] - 1s 65us/step - loss: 1.0185 - acc: 0.5207 - val_loss: 1.0834 - val_acc: 0.4973\n",
      "Epoch 24/40\n",
      "8283/8283 [==============================] - 0s 51us/step - loss: 1.0142 - acc: 0.5223 - val_loss: 1.0817 - val_acc: 0.4984\n",
      "Epoch 25/40\n",
      "8283/8283 [==============================] - 1s 69us/step - loss: 1.0099 - acc: 0.5242 - val_loss: 1.0813 - val_acc: 0.4940\n",
      "Epoch 26/40\n",
      "8283/8283 [==============================] - 0s 50us/step - loss: 1.0055 - acc: 0.5255 - val_loss: 1.0801 - val_acc: 0.4940\n",
      "Epoch 27/40\n",
      "8283/8283 [==============================] - 0s 50us/step - loss: 1.0016 - acc: 0.5278 - val_loss: 1.0792 - val_acc: 0.4951\n",
      "Epoch 28/40\n",
      "8283/8283 [==============================] - 0s 50us/step - loss: 0.9976 - acc: 0.5284 - val_loss: 1.0783 - val_acc: 0.4929\n",
      "Epoch 29/40\n",
      "8283/8283 [==============================] - 0s 48us/step - loss: 0.9938 - acc: 0.5294 - val_loss: 1.0777 - val_acc: 0.4951\n",
      "Epoch 30/40\n",
      "8283/8283 [==============================] - 0s 48us/step - loss: 0.9900 - acc: 0.5313 - val_loss: 1.0767 - val_acc: 0.4940\n",
      "Epoch 31/40\n",
      "8283/8283 [==============================] - 0s 49us/step - loss: 0.9864 - acc: 0.5335 - val_loss: 1.0760 - val_acc: 0.4951\n",
      "Epoch 32/40\n",
      "8283/8283 [==============================] - 0s 47us/step - loss: 0.9829 - acc: 0.5359 - val_loss: 1.0755 - val_acc: 0.4973\n",
      "Epoch 33/40\n",
      "8283/8283 [==============================] - 0s 47us/step - loss: 0.9795 - acc: 0.5363 - val_loss: 1.0746 - val_acc: 0.4940\n",
      "Epoch 34/40\n",
      "8283/8283 [==============================] - 0s 58us/step - loss: 0.9761 - acc: 0.5383 - val_loss: 1.0744 - val_acc: 0.4940\n",
      "Epoch 35/40\n",
      "8283/8283 [==============================] - 0s 51us/step - loss: 0.9728 - acc: 0.5418 - val_loss: 1.0735 - val_acc: 0.4929\n",
      "Epoch 36/40\n",
      "8283/8283 [==============================] - 0s 48us/step - loss: 0.9696 - acc: 0.5440 - val_loss: 1.0730 - val_acc: 0.4940\n",
      "Epoch 37/40\n",
      "8283/8283 [==============================] - 0s 45us/step - loss: 0.9664 - acc: 0.5444 - val_loss: 1.0725 - val_acc: 0.4951\n",
      "Epoch 38/40\n",
      "8283/8283 [==============================] - 0s 47us/step - loss: 0.9633 - acc: 0.5447 - val_loss: 1.0719 - val_acc: 0.4951\n",
      "Epoch 39/40\n",
      "8283/8283 [==============================] - 0s 47us/step - loss: 0.9603 - acc: 0.5484 - val_loss: 1.0713 - val_acc: 0.4984\n",
      "Epoch 40/40\n",
      "8283/8283 [==============================] - 0s 51us/step - loss: 0.9572 - acc: 0.5502 - val_loss: 1.0707 - val_acc: 0.4973\n"
     ]
    }
   ],
   "source": [
    "history = model.fit(x_train_std, y_train, batch_size=100, epochs=40, validation_split = 0.1)"
   ]
  },
  {
   "cell_type": "code",
   "execution_count": 42,
   "metadata": {},
   "outputs": [
    {
     "name": "stdout",
     "output_type": "stream",
     "text": [
      "2000/2000 [==============================] - 0s 48us/step\n"
     ]
    },
    {
     "data": {
      "text/plain": [
       "[1.0472947301864624, 0.5175]"
      ]
     },
     "execution_count": 42,
     "metadata": {},
     "output_type": "execute_result"
    }
   ],
   "source": [
    "model.evaluate(x_test_std, y_test)"
   ]
  },
  {
   "cell_type": "code",
   "execution_count": null,
   "metadata": {},
   "outputs": [],
   "source": []
  }
 ],
 "metadata": {
  "kernelspec": {
   "display_name": "Python 3",
   "language": "python",
   "name": "python3"
  },
  "language_info": {
   "codemirror_mode": {
    "name": "ipython",
    "version": 3
   },
   "file_extension": ".py",
   "mimetype": "text/x-python",
   "name": "python",
   "nbconvert_exporter": "python",
   "pygments_lexer": "ipython3",
   "version": "3.6.10"
  }
 },
 "nbformat": 4,
 "nbformat_minor": 4
}
